{
 "cells": [
  {
   "cell_type": "code",
   "execution_count": 4,
   "metadata": {},
   "outputs": [],
   "source": [
    "import netCDF4 as nc\n",
    "import geopandas as gpd\n",
    "from shapely.geometry import Point\n",
    "import pandas as pd\n",
    "import shapely\n",
    "from shapely.geometry import Point\n",
    "import xarray as xr\n",
    "\n"
   ]
  },
  {
   "cell_type": "code",
   "execution_count": 2,
   "metadata": {},
   "outputs": [],
   "source": [
    "# mm1=xr.open_dataset(\"RF25_ind1951_2022_yday.nc\")['RAINFALL']\n",
    "# mm=mm1.rio.write_crs(\"EPSG:4326\", inplace=True)\n",
    "# mk=mm.squeeze().to_dataframe().reset_index()\n"
   ]
  },
  {
   "cell_type": "code",
   "execution_count": 6,
   "metadata": {},
   "outputs": [],
   "source": [
    "mm1=xr.open_dataset(\"../RF25_ind1951_2023_ymonmean.nc\")['RAINFALL']\n",
    "mm=mm1.rio.write_crs(\"EPSG:4326\", inplace=True)\n",
    "mk=mm.squeeze().to_dataframe().reset_index()\n"
   ]
  },
  {
   "cell_type": "code",
   "execution_count": 7,
   "metadata": {},
   "outputs": [],
   "source": [
    "file=\"IND_dist.geojson\"\n",
    "gdf1 = gpd.read_file(file)\n",
    "gdf = gdf1.to_crs(\"EPSG:4326\")\n",
    "geometry_column = gdf['geometry']\n",
    "od=gdf#[gdf['District']=='J>JAPUR']\n",
    "od['District']=od['District'].str.replace('>', 'A', regex=False)\n"
   ]
  },
  {
   "cell_type": "code",
   "execution_count": 8,
   "metadata": {},
   "outputs": [
    {
     "data": {
      "text/html": [
       "<div>\n",
       "<style scoped>\n",
       "    .dataframe tbody tr th:only-of-type {\n",
       "        vertical-align: middle;\n",
       "    }\n",
       "\n",
       "    .dataframe tbody tr th {\n",
       "        vertical-align: top;\n",
       "    }\n",
       "\n",
       "    .dataframe thead th {\n",
       "        text-align: right;\n",
       "    }\n",
       "</style>\n",
       "<table border=\"1\" class=\"dataframe\">\n",
       "  <thead>\n",
       "    <tr style=\"text-align: right;\">\n",
       "      <th></th>\n",
       "      <th>TIME</th>\n",
       "      <th>LATITUDE</th>\n",
       "      <th>LONGITUDE</th>\n",
       "      <th>spatial_ref</th>\n",
       "      <th>RAINFALL</th>\n",
       "      <th>geometry</th>\n",
       "    </tr>\n",
       "  </thead>\n",
       "  <tbody>\n",
       "    <tr>\n",
       "      <th>0</th>\n",
       "      <td>2023-01-31</td>\n",
       "      <td>6.5</td>\n",
       "      <td>66.50</td>\n",
       "      <td>0</td>\n",
       "      <td>NaN</td>\n",
       "      <td>POINT (66.5 6.5)</td>\n",
       "    </tr>\n",
       "    <tr>\n",
       "      <th>1</th>\n",
       "      <td>2023-01-31</td>\n",
       "      <td>6.5</td>\n",
       "      <td>66.75</td>\n",
       "      <td>0</td>\n",
       "      <td>NaN</td>\n",
       "      <td>POINT (66.75 6.5)</td>\n",
       "    </tr>\n",
       "    <tr>\n",
       "      <th>2</th>\n",
       "      <td>2023-01-31</td>\n",
       "      <td>6.5</td>\n",
       "      <td>67.00</td>\n",
       "      <td>0</td>\n",
       "      <td>NaN</td>\n",
       "      <td>POINT (67 6.5)</td>\n",
       "    </tr>\n",
       "    <tr>\n",
       "      <th>3</th>\n",
       "      <td>2023-01-31</td>\n",
       "      <td>6.5</td>\n",
       "      <td>67.25</td>\n",
       "      <td>0</td>\n",
       "      <td>NaN</td>\n",
       "      <td>POINT (67.25 6.5)</td>\n",
       "    </tr>\n",
       "    <tr>\n",
       "      <th>4</th>\n",
       "      <td>2023-01-31</td>\n",
       "      <td>6.5</td>\n",
       "      <td>67.50</td>\n",
       "      <td>0</td>\n",
       "      <td>NaN</td>\n",
       "      <td>POINT (67.5 6.5)</td>\n",
       "    </tr>\n",
       "    <tr>\n",
       "      <th>...</th>\n",
       "      <td>...</td>\n",
       "      <td>...</td>\n",
       "      <td>...</td>\n",
       "      <td>...</td>\n",
       "      <td>...</td>\n",
       "      <td>...</td>\n",
       "    </tr>\n",
       "    <tr>\n",
       "      <th>208975</th>\n",
       "      <td>2023-12-31</td>\n",
       "      <td>38.5</td>\n",
       "      <td>99.00</td>\n",
       "      <td>0</td>\n",
       "      <td>NaN</td>\n",
       "      <td>POINT (99 38.5)</td>\n",
       "    </tr>\n",
       "    <tr>\n",
       "      <th>208976</th>\n",
       "      <td>2023-12-31</td>\n",
       "      <td>38.5</td>\n",
       "      <td>99.25</td>\n",
       "      <td>0</td>\n",
       "      <td>NaN</td>\n",
       "      <td>POINT (99.25 38.5)</td>\n",
       "    </tr>\n",
       "    <tr>\n",
       "      <th>208977</th>\n",
       "      <td>2023-12-31</td>\n",
       "      <td>38.5</td>\n",
       "      <td>99.50</td>\n",
       "      <td>0</td>\n",
       "      <td>NaN</td>\n",
       "      <td>POINT (99.5 38.5)</td>\n",
       "    </tr>\n",
       "    <tr>\n",
       "      <th>208978</th>\n",
       "      <td>2023-12-31</td>\n",
       "      <td>38.5</td>\n",
       "      <td>99.75</td>\n",
       "      <td>0</td>\n",
       "      <td>NaN</td>\n",
       "      <td>POINT (99.75 38.5)</td>\n",
       "    </tr>\n",
       "    <tr>\n",
       "      <th>208979</th>\n",
       "      <td>2023-12-31</td>\n",
       "      <td>38.5</td>\n",
       "      <td>100.00</td>\n",
       "      <td>0</td>\n",
       "      <td>NaN</td>\n",
       "      <td>POINT (100 38.5)</td>\n",
       "    </tr>\n",
       "  </tbody>\n",
       "</table>\n",
       "<p>208980 rows × 6 columns</p>\n",
       "</div>"
      ],
      "text/plain": [
       "             TIME  LATITUDE  LONGITUDE  spatial_ref  RAINFALL  \\\n",
       "0      2023-01-31       6.5      66.50            0       NaN   \n",
       "1      2023-01-31       6.5      66.75            0       NaN   \n",
       "2      2023-01-31       6.5      67.00            0       NaN   \n",
       "3      2023-01-31       6.5      67.25            0       NaN   \n",
       "4      2023-01-31       6.5      67.50            0       NaN   \n",
       "...           ...       ...        ...          ...       ...   \n",
       "208975 2023-12-31      38.5      99.00            0       NaN   \n",
       "208976 2023-12-31      38.5      99.25            0       NaN   \n",
       "208977 2023-12-31      38.5      99.50            0       NaN   \n",
       "208978 2023-12-31      38.5      99.75            0       NaN   \n",
       "208979 2023-12-31      38.5     100.00            0       NaN   \n",
       "\n",
       "                  geometry  \n",
       "0         POINT (66.5 6.5)  \n",
       "1        POINT (66.75 6.5)  \n",
       "2           POINT (67 6.5)  \n",
       "3        POINT (67.25 6.5)  \n",
       "4         POINT (67.5 6.5)  \n",
       "...                    ...  \n",
       "208975     POINT (99 38.5)  \n",
       "208976  POINT (99.25 38.5)  \n",
       "208977   POINT (99.5 38.5)  \n",
       "208978  POINT (99.75 38.5)  \n",
       "208979    POINT (100 38.5)  \n",
       "\n",
       "[208980 rows x 6 columns]"
      ]
     },
     "execution_count": 8,
     "metadata": {},
     "output_type": "execute_result"
    }
   ],
   "source": [
    "mk['geometry'] = mk.apply(lambda row: Point(row.LONGITUDE, row.LATITUDE), axis=1)\n",
    "geometry = [Point(xy) for xy in zip(mk['LONGITUDE'], mk['LATITUDE'])]\n",
    "gdf = gpd.GeoDataFrame(mk, geometry=geometry)\n",
    "gdf.set_crs(epsg=4326, inplace=True)\n"
   ]
  },
  {
   "cell_type": "code",
   "execution_count": 9,
   "metadata": {},
   "outputs": [],
   "source": [
    "\n",
    "gdf['RAINFALL'] = gdf['RAINFALL'].round(2)\n",
    "intersected_gdf = gpd.sjoin(gdf,od, how=\"inner\", predicate=\"intersects\")\n"
   ]
  },
  {
   "cell_type": "code",
   "execution_count": 10,
   "metadata": {},
   "outputs": [],
   "source": [
    "var1=intersected_gdf.groupby(['District','TIME'])['RAINFALL'].mean().reset_index()\n",
    "var1=pd.merge(var1,od[['District','geometry']],how='left',on='District')\n",
    "var1 = gpd.GeoDataFrame(var1, geometry=var1.geometry)\n",
    "# output_path = \"rfclim.geojson\"\n",
    "var1['RAINFALL']=var1['RAINFALL'].round(2)\n",
    "# var1['TIME']=var1['TIME'].astype(str)\n",
    "\n",
    "var1['District'] = var1['District'].str.replace('|', 'I', regex=False)\n",
    "var1['District'] = var1['District'].str.replace('@', 'A', regex=False)\n",
    "\n",
    "var1['TIME'] = pd.to_datetime(var1['TIME']).dt.strftime('%b').str.lower()\n",
    "\n",
    "time=var1['TIME']\n",
    "dist=var1['District'].unique()\n"
   ]
  },
  {
   "cell_type": "code",
   "execution_count": 11,
   "metadata": {},
   "outputs": [
    {
     "data": {
      "text/html": [
       "<div>\n",
       "<style scoped>\n",
       "    .dataframe tbody tr th:only-of-type {\n",
       "        vertical-align: middle;\n",
       "    }\n",
       "\n",
       "    .dataframe tbody tr th {\n",
       "        vertical-align: top;\n",
       "    }\n",
       "\n",
       "    .dataframe thead th {\n",
       "        text-align: right;\n",
       "    }\n",
       "</style>\n",
       "<table border=\"1\" class=\"dataframe\">\n",
       "  <thead>\n",
       "    <tr style=\"text-align: right;\">\n",
       "      <th></th>\n",
       "      <th>District</th>\n",
       "      <th>TIME</th>\n",
       "      <th>RAINFALL</th>\n",
       "      <th>geometry</th>\n",
       "    </tr>\n",
       "  </thead>\n",
       "  <tbody>\n",
       "    <tr>\n",
       "      <th>15</th>\n",
       "      <td>AGAR MALWA</td>\n",
       "      <td>apr</td>\n",
       "      <td>0.05</td>\n",
       "      <td>MULTIPOLYGON (((76.18552 24.32928, 76.21497 24...</td>\n",
       "    </tr>\n",
       "    <tr>\n",
       "      <th>20</th>\n",
       "      <td>AGAR MALWA</td>\n",
       "      <td>sep</td>\n",
       "      <td>5.23</td>\n",
       "      <td>MULTIPOLYGON (((76.18552 24.32928, 76.21497 24...</td>\n",
       "    </tr>\n",
       "  </tbody>\n",
       "</table>\n",
       "</div>"
      ],
      "text/plain": [
       "      District TIME  RAINFALL  \\\n",
       "15  AGAR MALWA  apr      0.05   \n",
       "20  AGAR MALWA  sep      5.23   \n",
       "\n",
       "                                             geometry  \n",
       "15  MULTIPOLYGON (((76.18552 24.32928, 76.21497 24...  \n",
       "20  MULTIPOLYGON (((76.18552 24.32928, 76.21497 24...  "
      ]
     },
     "execution_count": 11,
     "metadata": {},
     "output_type": "execute_result"
    }
   ],
   "source": [
    "var1.iloc[[15,20]]"
   ]
  },
  {
   "cell_type": "code",
   "execution_count": 12,
   "metadata": {},
   "outputs": [],
   "source": [
    "# import numpy as np\n",
    "# np.array(var1).nbytes / (1024 ** 2)\n",
    "# var1.memory_usage(deep=True).sum() / (1024 ** 2)"
   ]
  },
  {
   "cell_type": "code",
   "execution_count": null,
   "metadata": {},
   "outputs": [],
   "source": []
  },
  {
   "cell_type": "code",
   "execution_count": 13,
   "metadata": {},
   "outputs": [
    {
     "data": {
      "text/html": [
       "<div>\n",
       "<style scoped>\n",
       "    .dataframe tbody tr th:only-of-type {\n",
       "        vertical-align: middle;\n",
       "    }\n",
       "\n",
       "    .dataframe tbody tr th {\n",
       "        vertical-align: top;\n",
       "    }\n",
       "\n",
       "    .dataframe thead th {\n",
       "        text-align: right;\n",
       "    }\n",
       "</style>\n",
       "<table border=\"1\" class=\"dataframe\">\n",
       "  <thead>\n",
       "    <tr style=\"text-align: right;\">\n",
       "      <th></th>\n",
       "      <th>District</th>\n",
       "      <th>TIME</th>\n",
       "      <th>RAINFALL</th>\n",
       "      <th>geometry</th>\n",
       "    </tr>\n",
       "  </thead>\n",
       "  <tbody>\n",
       "    <tr>\n",
       "      <th>0</th>\n",
       "      <td>ADILABAD</td>\n",
       "      <td>jan</td>\n",
       "      <td>0.28</td>\n",
       "      <td>MULTIPOLYGON (((78.33565 19.88358, 78.38067 19...</td>\n",
       "    </tr>\n",
       "    <tr>\n",
       "      <th>1</th>\n",
       "      <td>ADILABAD</td>\n",
       "      <td>feb</td>\n",
       "      <td>0.21</td>\n",
       "      <td>MULTIPOLYGON (((78.33565 19.88358, 78.38067 19...</td>\n",
       "    </tr>\n",
       "    <tr>\n",
       "      <th>2</th>\n",
       "      <td>ADILABAD</td>\n",
       "      <td>mar</td>\n",
       "      <td>0.51</td>\n",
       "      <td>MULTIPOLYGON (((78.33565 19.88358, 78.38067 19...</td>\n",
       "    </tr>\n",
       "    <tr>\n",
       "      <th>3</th>\n",
       "      <td>ADILABAD</td>\n",
       "      <td>apr</td>\n",
       "      <td>0.45</td>\n",
       "      <td>MULTIPOLYGON (((78.33565 19.88358, 78.38067 19...</td>\n",
       "    </tr>\n",
       "    <tr>\n",
       "      <th>4</th>\n",
       "      <td>ADILABAD</td>\n",
       "      <td>may</td>\n",
       "      <td>0.61</td>\n",
       "      <td>MULTIPOLYGON (((78.33565 19.88358, 78.38067 19...</td>\n",
       "    </tr>\n",
       "    <tr>\n",
       "      <th>...</th>\n",
       "      <td>...</td>\n",
       "      <td>...</td>\n",
       "      <td>...</td>\n",
       "      <td>...</td>\n",
       "    </tr>\n",
       "    <tr>\n",
       "      <th>8503</th>\n",
       "      <td>ZUNHEBOTO</td>\n",
       "      <td>aug</td>\n",
       "      <td>10.46</td>\n",
       "      <td>MULTIPOLYGON (((94.47887 26.29356, 94.51599 26...</td>\n",
       "    </tr>\n",
       "    <tr>\n",
       "      <th>8504</th>\n",
       "      <td>ZUNHEBOTO</td>\n",
       "      <td>sep</td>\n",
       "      <td>7.40</td>\n",
       "      <td>MULTIPOLYGON (((94.47887 26.29356, 94.51599 26...</td>\n",
       "    </tr>\n",
       "    <tr>\n",
       "      <th>8505</th>\n",
       "      <td>ZUNHEBOTO</td>\n",
       "      <td>oct</td>\n",
       "      <td>3.76</td>\n",
       "      <td>MULTIPOLYGON (((94.47887 26.29356, 94.51599 26...</td>\n",
       "    </tr>\n",
       "    <tr>\n",
       "      <th>8506</th>\n",
       "      <td>ZUNHEBOTO</td>\n",
       "      <td>nov</td>\n",
       "      <td>0.81</td>\n",
       "      <td>MULTIPOLYGON (((94.47887 26.29356, 94.51599 26...</td>\n",
       "    </tr>\n",
       "    <tr>\n",
       "      <th>8507</th>\n",
       "      <td>ZUNHEBOTO</td>\n",
       "      <td>dec</td>\n",
       "      <td>0.36</td>\n",
       "      <td>MULTIPOLYGON (((94.47887 26.29356, 94.51599 26...</td>\n",
       "    </tr>\n",
       "  </tbody>\n",
       "</table>\n",
       "<p>8508 rows × 4 columns</p>\n",
       "</div>"
      ],
      "text/plain": [
       "       District TIME  RAINFALL  \\\n",
       "0      ADILABAD  jan      0.28   \n",
       "1      ADILABAD  feb      0.21   \n",
       "2      ADILABAD  mar      0.51   \n",
       "3      ADILABAD  apr      0.45   \n",
       "4      ADILABAD  may      0.61   \n",
       "...         ...  ...       ...   \n",
       "8503  ZUNHEBOTO  aug     10.46   \n",
       "8504  ZUNHEBOTO  sep      7.40   \n",
       "8505  ZUNHEBOTO  oct      3.76   \n",
       "8506  ZUNHEBOTO  nov      0.81   \n",
       "8507  ZUNHEBOTO  dec      0.36   \n",
       "\n",
       "                                               geometry  \n",
       "0     MULTIPOLYGON (((78.33565 19.88358, 78.38067 19...  \n",
       "1     MULTIPOLYGON (((78.33565 19.88358, 78.38067 19...  \n",
       "2     MULTIPOLYGON (((78.33565 19.88358, 78.38067 19...  \n",
       "3     MULTIPOLYGON (((78.33565 19.88358, 78.38067 19...  \n",
       "4     MULTIPOLYGON (((78.33565 19.88358, 78.38067 19...  \n",
       "...                                                 ...  \n",
       "8503  MULTIPOLYGON (((94.47887 26.29356, 94.51599 26...  \n",
       "8504  MULTIPOLYGON (((94.47887 26.29356, 94.51599 26...  \n",
       "8505  MULTIPOLYGON (((94.47887 26.29356, 94.51599 26...  \n",
       "8506  MULTIPOLYGON (((94.47887 26.29356, 94.51599 26...  \n",
       "8507  MULTIPOLYGON (((94.47887 26.29356, 94.51599 26...  \n",
       "\n",
       "[8508 rows x 4 columns]"
      ]
     },
     "execution_count": 13,
     "metadata": {},
     "output_type": "execute_result"
    }
   ],
   "source": [
    "var1"
   ]
  },
  {
   "cell_type": "code",
   "execution_count": 14,
   "metadata": {},
   "outputs": [
    {
     "data": {
      "text/plain": [
       "<Axes: >"
      ]
     },
     "execution_count": 14,
     "metadata": {},
     "output_type": "execute_result"
    },
    {
     "data": {
      "image/png": "[encoded data removed]",
      "text/plain": [
       "<Figure size 640x480 with 1 Axes>"
      ]
     },
     "metadata": {},
     "output_type": "display_data"
    }
   ],
   "source": [
    "var1[var1['TIME']=='aug'].plot()\n",
    "\n",
    "# var1['TIME']=var1['TIME'].astype(str)\n",
    "\n",
    "# var1.to_file(\"output.geojson\")\n",
    "\n"
   ]
  },
  {
   "cell_type": "code",
   "execution_count": 16,
   "metadata": {},
   "outputs": [],
   "source": [
    "for i in range(0,701):\n",
    "    var3=var1[var1['District']==dist[i]]\n",
    "\n",
    "    # var3['TIME'] = pd.to_datetime(var3['TIME'] + '-2020', format='%d-%b-%Y')\n",
    "    var3_sorted = var3.sort_values(by='TIME')\n",
    "\n",
    "    # var3_sorted['TIME'] = var3_sorted['TIME'].dt.strftime('%b')\n",
    "\n",
    "    # var3_sorted.reset_index(drop=True, inplace=True)\n",
    "\n",
    "\n",
    "    var4=var3[['TIME','RAINFALL']].copy()\n",
    "    dis=dist[i]\n",
    "    filename=f\"{dis}.json\"\n",
    "    # print(filename)\n",
    "    (var4[['TIME','RAINFALL']]).to_json(filename)\n"
   ]
  },
  {
   "cell_type": "code",
   "execution_count": 17,
   "metadata": {},
   "outputs": [
    {
     "name": "stdout",
     "output_type": "stream",
     "text": [
      "jan.geojson\n",
      "feb.geojson\n",
      "mar.geojson\n",
      "apr.geojson\n",
      "may.geojson\n",
      "jun.geojson\n",
      "jul.geojson\n",
      "aug.geojson\n",
      "sep.geojson\n",
      "oct.geojson\n",
      "nov.geojson\n",
      "dec.geojson\n"
     ]
    }
   ],
   "source": [
    "for i in range(0,12):\n",
    "    var2=var1[var1['TIME']==time[i]]\n",
    "\n",
    "    time1=time[i]\n",
    "    filename=f\"{time1}.geojson\"\n",
    "    print(filename)\n",
    "    var2.to_file(filename, driver='GeoJSON')\n",
    "\n",
    "\n",
    "\n"
   ]
  },
  {
   "cell_type": "code",
   "execution_count": null,
   "metadata": {},
   "outputs": [],
   "source": [
    "time=pd.to_datetime(var1['TIME'][i]).strftime('%d_%b').lower()\n",
    "filename=f\"{var1['District'][0]}_{time}.geojson\"\n",
    "# var1.to_file(output_path, driver='GeoJSON')\n",
    "filename"
   ]
  },
  {
   "cell_type": "code",
   "execution_count": null,
   "metadata": {},
   "outputs": [],
   "source": [
    "var1.iloc[[10]].to_file(output_path, driver='GeoJSON')"
   ]
  },
  {
   "cell_type": "code",
   "execution_count": null,
   "metadata": {},
   "outputs": [],
   "source": [
    "import gzip\n",
    "import json\n",
    "var1['TIME']=var1['TIME'].astype(str)\n",
    "\n",
    "geojson_str=var1.to_json()\n",
    "compressed_geojson = gzip.compress(geojson_str.encode('utf-8'))\n",
    "with open('output_file.geojson.gz', 'wb') as f:\n",
    "    f.write(compressed_geojson)\n",
    "\n"
   ]
  },
  {
   "cell_type": "code",
   "execution_count": 18,
   "metadata": {},
   "outputs": [],
   "source": [
    "var1.to_file(output_path, driver='GeoJSON')"
   ]
  },
  {
   "cell_type": "code",
   "execution_count": null,
   "metadata": {},
   "outputs": [],
   "source": [
    "var1[var1['District']==\"CUTTACK\"]"
   ]
  },
  {
   "cell_type": "code",
   "execution_count": null,
   "metadata": {},
   "outputs": [],
   "source": [
    "od"
   ]
  },
  {
   "cell_type": "code",
   "execution_count": null,
   "metadata": {},
   "outputs": [],
   "source": []
  },
  {
   "cell_type": "code",
   "execution_count": null,
   "metadata": {},
   "outputs": [],
   "source": []
  },
  {
   "cell_type": "code",
   "execution_count": 19,
   "metadata": {},
   "outputs": [],
   "source": [
    "def netcdf_to_gdf(netcdf_file):\n",
    "    # Open the NetCDF file\n",
    "    dataset = nc.Dataset(netcdf_file, mode='r')\n",
    "\n",
    "    # Extract data variables\n",
    "    lon_var = dataset['LONGITUDE'][:]\n",
    "    lat_var = dataset['LATITUDE'][:]\n",
    "    \n",
    "    polygons = []\n",
    "\n",
    "    for j, row in enumerate(lon_var):\n",
    "        for i, value in enumerate(row):\n",
    "            if not np.isnan(value):  # Ensure the point is valid (not NaN)\n",
    "                poly_coords = [(lon, lat) for lon, lat in zip(row, lat_var[:, i])]\n",
    "                polygons.append(Polygon(poly_coords))\n",
    "\n",
    "    # Create a GeoDataFrame from the polygons\n",
    "    gdf_netcdf = gpd.GeoDataFrame(geometry=polygons)\n",
    "\n",
    "    return gdf\n",
    "\n",
    "def shapefile_to_gdf(shapefile):\n",
    "    # Read the shapefile using geopandas\n",
    "    gdf_shape = gpd.read_file(shapefile)\n",
    "    \n",
    "    return gdf_shape\n",
    "\n",
    "def netcdf_and_shapefile_to_geojson(netcdf_file, shapefile, geojson_file):\n",
    "    # Convert NetCDF data to GeoDataFrame\n",
    "    gdf_netcdf = netcdf_to_gdf(netcdf_file)\n",
    "\n",
    "    # Convert Shapefile to GeoDataFrame\n",
    "    gdf_shape = shapefile_to_gdf(shapefile)\n",
    "\n",
    "    # Perform any necessary spatial operations or filtering here\n",
    "\n",
    "    # Write the combined GDF to a GeoJSON file\n",
    "    gdf_netcdf.to_file(geojson_file, driver='GeoJSON')\n",
    "\n"
   ]
  },
  {
   "cell_type": "code",
   "execution_count": null,
   "metadata": {},
   "outputs": [],
   "source": [
    "mm=netcdf_to_gdf(netcdf_file)"
   ]
  },
  {
   "cell_type": "code",
   "execution_count": null,
   "metadata": {},
   "outputs": [],
   "source": [
    "if __name__ == \"__main__\":\n",
    "    netcdf_file = 'RF25_ind1951_2022_monavg.nc'  # Path to your NetCDF file\n",
    "    shapefile = 'SUBDISTRICT_BOUNDARY.shp'     # Path to your shapefile\n",
    "    geojson_file = 'output.geojson'              # Desired output GeoJSON file\n",
    "\n",
    "    netcdf_and_shapefile_to_geojson(netcdf_file, shapefile, geojson_file)"
   ]
  },
  {
   "cell_type": "code",
   "execution_count": 56,
   "metadata": {},
   "outputs": [],
   "source": [
    "import xarray as xr\n",
    "mm1=xr.open_dataset(netcdf_file)['RAINFALL']\n",
    "mm=mm1.rio.write_crs(\"EPSG:4326\", inplace=True)"
   ]
  },
  {
   "cell_type": "code",
   "execution_count": 57,
   "metadata": {},
   "outputs": [],
   "source": [
    "fp='SUBDISTRICT_BOUNDARY.shx'\n",
    "gdf = gpd.read_file(fp)\n",
    "gdf = gdf.to_crs(mm.rio.crs)"
   ]
  },
  {
   "cell_type": "code",
   "execution_count": 92,
   "metadata": {},
   "outputs": [],
   "source": [
    "gdf['STATE']==\"ODISHA\"\n",
    "odisha_gdf = gdf[gdf['STATE']==\"ODISHA\"]\n",
    "# clipped_data = mm1.rio.clip(odisha_gdf.geometry.apply(lambda geom: geom.buffer(0)), odisha_gdf.crs)"
   ]
  },
  {
   "cell_type": "code",
   "execution_count": 111,
   "metadata": {},
   "outputs": [],
   "source": [
    "clipped_values = clipped_data.values.flatten()\n"
   ]
  },
  {
   "cell_type": "code",
   "execution_count": 109,
   "metadata": {},
   "outputs": [],
   "source": [
    "clipped_data = mm.rio.clip(odisha_gdf.geometry.values,  \"epsg:4326\", drop=True, invert=False)"
   ]
  },
  {
   "cell_type": "code",
   "execution_count": null,
   "metadata": {},
   "outputs": [],
   "source": [
    "clipped_values"
   ]
  },
  {
   "cell_type": "code",
   "execution_count": null,
   "metadata": {},
   "outputs": [],
   "source": []
  },
  {
   "cell_type": "code",
   "execution_count": null,
   "metadata": {},
   "outputs": [],
   "source": [
    "clipped_data"
   ]
  }
 ],
 "metadata": {
  "kernelspec": {
   "display_name": "wrf_plot",
   "language": "python",
   "name": "python3"
  },
  "language_info": {
   "codemirror_mode": {
    "name": "ipython",
    "version": 3
   },
   "file_extension": ".py",
   "mimetype": "text/x-python",
   "name": "python",
   "nbconvert_exporter": "python",
   "pygments_lexer": "ipython3",
   "version": "3.12.8"
  }
 },
 "nbformat": 4,
 "nbformat_minor": 2
}
