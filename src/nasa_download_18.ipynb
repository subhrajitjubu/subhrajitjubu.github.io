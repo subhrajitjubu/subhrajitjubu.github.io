{
 "cells": [
  {
   "cell_type": "code",
   "execution_count": 2,
   "id": "88090881-b544-483e-bf29-7898ab4881b0",
   "metadata": {},
   "outputs": [
    {
     "name": "stdout",
     "output_type": "stream",
     "text": [
      "20241216\n"
     ]
    }
   ],
   "source": [
    "import xarray as xr\n",
    "import matplotlib.pyplot as plt\n",
    "from datetime import date\n",
    "\n",
    "\n",
    "import numpy as np\n",
    "import pandas as pd\n",
    "from datetime import datetime, timedelta\n",
    "import json\n",
    "def get_today_date():\n",
    "    return date.today().strftime(\"%Y%m%d\")\n",
    "\n",
    "# Example usage:\n",
    "today_date = get_today_date()\n",
    "print(today_date)\n",
    "\n",
    "def dict_l(data, fm):\n",
    "    # Convert the data to a dictionary\n",
    "    data_dict = data.squeeze().to_dict(data='list', encoding=False)\n",
    "\n",
    "    def convert_types(obj):\n",
    "        if isinstance(obj, (np.datetime64, pd.Timestamp, datetime)):\n",
    "            return obj.isoformat()  # Convert datetime objects to ISO format\n",
    "        elif isinstance(obj, timedelta):\n",
    "            return obj.total_seconds()  # Convert timedelta to total seconds\n",
    "        elif isinstance(obj, np.ndarray):\n",
    "            return obj.tolist()  # Convert numpy arrays to lists\n",
    "        elif isinstance(obj, (np.float32, np.float64)):\n",
    "            return float(obj)  # Convert numpy floats to native floats\n",
    "        elif isinstance(obj, (np.int32, np.int64)):\n",
    "            return int(obj)  # Convert numpy integers to native ints\n",
    "        raise TypeError(f\"Type {type(obj)} not serializable\")\n",
    "\n",
    "    file = f\"{fm}.json\"\n",
    "    # Save the dictionary as a JSON file with the extended convert_types function\n",
    "    with open(file, 'w') as json_file:\n",
    "        json.dump(data_dict, json_file, indent=4, default=convert_types)\n",
    "        \n"
   ]
  },
  {
   "cell_type": "code",
   "execution_count": null,
   "id": "9bd0356c",
   "metadata": {},
   "outputs": [],
   "source": [
    "url=f\"http://nomads.ncep.noaa.gov:80/dods/gfs_0p25_1hr/gfs{today_date}/gfs_0p25_1hr_06z\"\n",
    "ds =xr.open_dataset(url).sel(lon=slice(60,100),lat=slice(0,40))"
   ]
  },
  {
   "cell_type": "code",
   "execution_count": 6,
   "id": "3592ae8b-97ad-4534-bf5e-abd8727630e5",
   "metadata": {},
   "outputs": [],
   "source": [
    "sfcx=ds['apcpsfc'].sel(lon=slice(60,100),lat=slice(0,40))#.resample(time='3H').mean()\n",
    "dt = sfcx.time\n",
    "sfcx1=sfcx.fillna(0)\n",
    "sfcx=sfcx1.diff(dim='time').dropna(dim='time')\n",
    "\n",
    "\n",
    "temp=ds['tmpsfc'].fillna(0)\n",
    "mslp=ds['pressfc'].fillna(0)/100\n",
    "cloud=ds['tcdcaveclm'].fillna(0)\n"
   ]
  },
  {
   "cell_type": "code",
   "execution_count": 49,
   "id": "03cb73c8-eba9-4ca9-8aca-7c41a3bbaf32",
   "metadata": {},
   "outputs": [],
   "source": [
    "dict_l(sfcx,\"rf_tot_nasa\")\n",
    "dict_l(temp,\"temp_tot_nasa\")\n",
    "dict_l(mslp,\"mslp_tot_nasa\")\n",
    "dict_l(cloud,\"cloud_tot_nasa\")\n"
   ]
  }
 ],
 "metadata": {
  "kernelspec": {
   "display_name": "wrf_plot",
   "language": "python",
   "name": "python3"
  },
  "language_info": {
   "codemirror_mode": {
    "name": "ipython",
    "version": 3
   },
   "file_extension": ".py",
   "mimetype": "text/x-python",
   "name": "python",
   "nbconvert_exporter": "python",
   "pygments_lexer": "ipython3",
   "version": "3.12.8"
  }
 },
 "nbformat": 4,
 "nbformat_minor": 5
}
