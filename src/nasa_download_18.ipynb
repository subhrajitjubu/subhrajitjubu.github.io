{
 "cells": [
  {
   "cell_type": "code",
   "execution_count": null,
   "id": "88090881-b544-483e-bf29-7898ab4881b0",
   "metadata": {},
   "outputs": [],
   "source": [
    "import numpy as np\n",
    "import xarray as xr\n",
    "import json\n",
    "import pandas as pd\n",
    "from datetime import datetime, timedelta\n",
    "import os\n",
    "import logging\n",
    "\n",
    "logging.basicConfig(level=logging.INFO)\n",
    "\n",
    "def dict_l(data, fm):\n",
    "    try:\n",
    "        # Validate filename\n",
    "       \n",
    "        \n",
    "        # Convert data to dictionary\n",
    "        logging.info(\"Converting data to dictionary...\")\n",
    "        data_dict = data.squeeze().to_dict(data='list', encoding=False)\n",
    "        \n",
    "        # Helper function to recursively round numeric values\n",
    "        def round_numbers(obj):\n",
    "            if isinstance(obj, dict):\n",
    "                return {k: round_numbers(v) for k, v in obj.items()}\n",
    "            elif isinstance(obj, list):\n",
    "                return [round_numbers(item) for item in obj]\n",
    "            elif isinstance(obj, (float, np.float32, np.float64)):\n",
    "                return round(float(obj), 2)  # Round floats to 2 decimal places\n",
    "            elif isinstance(obj, (int, np.int32, np.int64)):\n",
    "                return int(obj)  # Keep integers as-is\n",
    "            else:\n",
    "                return obj  # Leave other types unchanged\n",
    "        \n",
    "        # Apply rounding to the dictionary\n",
    "        logging.info(\"Rounding numeric values to 2 decimal places...\")\n",
    "        rounded_data_dict = round_numbers(data_dict)\n",
    "        \n",
    "        # Helper function to handle non-serializable types\n",
    "        def convert_types(obj):\n",
    "            if isinstance(obj, dict):\n",
    "                return {k: convert_types(v) for k, v in obj.items()}\n",
    "            elif isinstance(obj, list):\n",
    "                return [convert_types(item) for item in obj]\n",
    "            elif isinstance(obj, (np.datetime64, pd.Timestamp, datetime)):\n",
    "                return obj.isoformat()\n",
    "            elif isinstance(obj, timedelta):\n",
    "                return obj.total_seconds()\n",
    "            elif isinstance(obj, np.ndarray):\n",
    "                return obj.tolist()\n",
    "            elif isinstance(obj, (np.float32, np.float64)):\n",
    "                return float(obj)\n",
    "            elif isinstance(obj, (np.int32, np.int64)):\n",
    "                return int(obj)\n",
    "            raise TypeError(f\"Type {type(obj)} not serializable\")\n",
    "        \n",
    "        # Save to JSON file\n",
    "        file = os.path.join(os.getcwd(), f\"{fm}.json\")\n",
    "        logging.info(f\"Saving data to {file}...\")\n",
    "        with open(file, 'w') as json_file:\n",
    "            json.dump(rounded_data_dict, json_file, indent=4, default=convert_types)\n",
    "        \n",
    "        logging.info(\"Data successfully saved.\")\n",
    "    \n",
    "    except Exception as e:\n",
    "        logging.error(f\"An error occurred: {e}\")\n",
    "        raise"
   ]
  },
  {
   "cell_type": "code",
   "execution_count": null,
   "id": "9bd0356c",
   "metadata": {},
   "outputs": [],
   "source": [
    "from datetime import date\n",
    "\n",
    "def get_today_date():\n",
    "    return date.today().strftime(\"%Y%m%d\")\n",
    "\n",
    "# Example usage:\n",
    "today_date = get_today_date()\n",
    "print(today_date)\n"
   ]
  },
  {
   "cell_type": "code",
   "execution_count": null,
   "id": "5b4bbd16-0650-494c-8e7b-cc18d4491db6",
   "metadata": {},
   "outputs": [],
   "source": [
    "url=f\"http://nomads.ncep.noaa.gov:80/dods/gfs_0p25_1hr/gfs{today_date}/gfs_0p25_1hr_18z\""
   ]
  },
  {
   "cell_type": "code",
   "execution_count": null,
   "id": "15282ecd-cfeb-4472-b932-3fd470cfaa6d",
   "metadata": {},
   "outputs": [],
   "source": [
    "ds =xr.open_dataset(url).sel(lon=slice(60,100),lat=slice(0,40))\n"
   ]
  },
  {
   "cell_type": "code",
   "execution_count": null,
   "id": "3592ae8b-97ad-4534-bf5e-abd8727630e5",
   "metadata": {},
   "outputs": [],
   "source": [
    "sfcx=ds['apcpsfc'].sel(lon=slice(60,100),lat=slice(0,40))#.resample(time='3H').mean()\n",
    "dt = sfcx.time\n"
   ]
  },
  {
   "cell_type": "code",
   "execution_count": null,
   "id": "af07a6b3-c43f-449e-a846-40b3510231b4",
   "metadata": {},
   "outputs": [],
   "source": [
    "sfcx1=sfcx.fillna(0)\n",
    "sfcx=sfcx1.diff(dim='time').dropna(dim='time')\n",
    "\n",
    "rf=ds['apcpsfc'][:72].round(2)\n",
    "temp=ds['tmpsfc'].round(2)\n",
    "mslp=ds['pressfc'].round(2)/100\n",
    "cloud=ds['tcdcaveclm'].round(2)"
   ]
  },
  {
   "cell_type": "code",
   "execution_count": null,
   "id": "03cb73c8-eba9-4ca9-8aca-7c41a3bbaf32",
   "metadata": {},
   "outputs": [],
   "source": [
    "dict_l(rf[:96],\"rf_tot_nasa\")\n",
    "dict_l(temp[:96],\"temp_tot_nasa\")\n",
    "dict_l(mslp[:96],\"mslp_tot_nasa\")\n",
    "dict_l(cloud[:96],\"cloud_tot_nasa\")\n"
   ]
  }
 ],
 "metadata": {
  "kernelspec": {
   "display_name": "wrf_plot",
   "language": "python",
   "name": "python3"
  },
  "language_info": {
   "codemirror_mode": {
    "name": "ipython",
    "version": 3
   },
   "file_extension": ".py",
   "mimetype": "text/x-python",
   "name": "python",
   "nbconvert_exporter": "python",
   "pygments_lexer": "ipython3",
   "version": "3.12.8"
  }
 },
 "nbformat": 4,
 "nbformat_minor": 5
}
