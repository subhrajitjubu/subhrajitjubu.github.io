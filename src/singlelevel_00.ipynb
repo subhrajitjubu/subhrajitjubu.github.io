{
 "cells": [
  {
   "cell_type": "code",
   "execution_count": null,
   "id": "c5b76488-4c5f-4eb1-a175-c32e14e94f93",
   "metadata": {
    "execution": {
     "iopub.execute_input": "2024-11-12T07:37:31.203749Z",
     "iopub.status.busy": "2024-11-12T07:37:31.203749Z",
     "iopub.status.idle": "2024-11-12T07:37:34.303469Z",
     "shell.execute_reply": "2024-11-12T07:37:34.303469Z",
     "shell.execute_reply.started": "2024-11-12T07:37:31.203749Z"
    }
   },
   "outputs": [],
   "source": [
    "!pip install geopandas metpy xarray[complete] -q\n",
    "!pip install eccodes cfgrib rioxarray ecmwf.opendata "
   ]
  },
  {
   "cell_type": "code",
   "execution_count": 2,
   "id": "94385330-0b94-458c-8208-d83f44687557",
   "metadata": {
    "execution": {
     "iopub.execute_input": "2024-11-12T07:40:52.720157Z",
     "iopub.status.busy": "2024-11-12T07:40:52.720157Z",
     "iopub.status.idle": "2024-11-12T07:40:54.619552Z",
     "shell.execute_reply": "2024-11-12T07:40:54.618550Z",
     "shell.execute_reply.started": "2024-11-12T07:40:52.720157Z"
    }
   },
   "outputs": [],
   "source": [
    "import xarray as xr\n",
    "import cfgrib\n",
    "import os \n",
    "from ecmwf.opendata import Client\n",
    "# plt.style.available\n",
    "#import colormaps as cmaps \n",
    "import concurrent\n",
    "import numpy as np\n",
    "\n",
    "\n",
    "from IPython.display import HTML\n",
    "\n",
    "# Disable warnings for data download via API\n",
    "import urllib3\n",
    "urllib3.disable_warnings()\n",
    "client = Client(source=\"ecmwf\")\n",
    "import metpy.calc as mpcalc\n",
    "from metpy.units import units\n",
    "import json\n",
    "import pandas as pd\n",
    "from datetime import datetime, timedelta\n",
    "\n",
    "import rioxarray\n",
    "import xarray as xr\n",
    "import cfgrib\n",
    "\n",
    "import json\n",
    "import zipfile\n",
    "import os\n",
    "from os import walk\n",
    "import netCDF4 as nc\n",
    "import geopandas as gpd\n",
    "from shapely.geometry import Point\n",
    "import pandas as pd\n",
    "import shapely\n",
    "from shapely.geometry import Point\n",
    "import xarray as xr\n",
    "import logging"
   ]
  },
  {
   "cell_type": "code",
   "execution_count": 3,
   "id": "73172822",
   "metadata": {},
   "outputs": [],
   "source": [
    "\n",
    "def dict_l(data, fm):\n",
    "    try:\n",
    "        # Validate filename\n",
    "       \n",
    "        \n",
    "        # Convert data to dictionary\n",
    "        logging.info(\"Converting data to dictionary...\")\n",
    "        data_dict = data.squeeze().to_dict(data='list', encoding=False)\n",
    "        \n",
    "        # Helper function to recursively round numeric values\n",
    "        def round_numbers(obj):\n",
    "            if isinstance(obj, dict):\n",
    "                return {k: round_numbers(v) for k, v in obj.items()}\n",
    "            elif isinstance(obj, list):\n",
    "                return [round_numbers(item) for item in obj]\n",
    "            elif isinstance(obj, (float, np.float32, np.float64)):\n",
    "                return round(float(obj), 2)  # Round floats to 2 decimal places\n",
    "            elif isinstance(obj, (int, np.int32, np.int64)):\n",
    "                return int(obj)  # Keep integers as-is\n",
    "            else:\n",
    "                return obj  # Leave other types unchanged\n",
    "        \n",
    "        # Apply rounding to the dictionary\n",
    "        logging.info(\"Rounding numeric values to 2 decimal places...\")\n",
    "        rounded_data_dict = round_numbers(data_dict)\n",
    "        \n",
    "        # Helper function to handle non-serializable types\n",
    "        def convert_types(obj):\n",
    "            if isinstance(obj, dict):\n",
    "                return {k: convert_types(v) for k, v in obj.items()}\n",
    "            elif isinstance(obj, list):\n",
    "                return [convert_types(item) for item in obj]\n",
    "            elif isinstance(obj, (np.datetime64, pd.Timestamp, datetime)):\n",
    "                return obj.isoformat()\n",
    "            elif isinstance(obj, timedelta):\n",
    "                return obj.total_seconds()\n",
    "            elif isinstance(obj, np.ndarray):\n",
    "                return obj.tolist()\n",
    "            elif isinstance(obj, (np.float32, np.float64)):\n",
    "                return float(obj)\n",
    "            elif isinstance(obj, (np.int32, np.int64)):\n",
    "                return int(obj)\n",
    "            raise TypeError(f\"Type {type(obj)} not serializable\")\n",
    "        \n",
    "        # Save to JSON file\n",
    "        file = os.path.join(os.getcwd(), f\"{fm}.json\")\n",
    "        logging.info(f\"Saving data to {file}...\")\n",
    "        with open(file, 'w') as json_file:\n",
    "            json.dump(rounded_data_dict, json_file, indent=4, default=convert_types)\n",
    "        \n",
    "        logging.info(\"Data successfully saved.\")\n",
    "    \n",
    "    except Exception as e:\n",
    "        logging.error(f\"An error occurred: {e}\")\n",
    "        raise"
   ]
  },
  {
   "cell_type": "code",
   "execution_count": null,
   "id": "8a584e22-bddb-4933-8025-5617e7345164",
   "metadata": {
    "execution": {
     "iopub.execute_input": "2024-11-12T05:46:34.688071Z",
     "iopub.status.busy": "2024-11-12T05:46:34.688071Z",
     "iopub.status.idle": "2024-11-12T05:46:34.702078Z",
     "shell.execute_reply": "2024-11-12T05:46:34.702078Z",
     "shell.execute_reply.started": "2024-11-12T05:46:34.688071Z"
    }
   },
   "outputs": [],
   "source": [
    "# HRES:\n",
    "\n",
    "# fc: Forecast.\n",
    "# ENS:\n",
    "\n",
    "# cf: Control forecast.\n",
    "# pf: Perturbed forecast.\n",
    "# em: Ensemble mean.\n",
    "# es: Ensemble standard deviation.\n",
    "# ep: Probabilities.\n",
    "# Valid values for stream are:\n",
    "\n",
    "# oper: Atmospheric fields from HRES - 00 UTC and 12 UTC.\n",
    "# wave: Ocean wave fields from HRES - 00 UTC and 12 UTC.\n",
    "# enfo: Atmospheric fields from ENS.\n",
    "# waef: Ocean wave fields from ENS.\n",
    "# scda: Atmospheric fields from HRES - 06 UTC and 18 UTC.\n",
    "# scwv: Ocean wave fields from HRES - 06 UTC and 18 UTC."
   ]
  },
  {
   "cell_type": "code",
   "execution_count": 5,
   "id": "28e9cd52-b894-4977-a4d4-221b089e93dc",
   "metadata": {
    "execution": {
     "iopub.status.busy": "2024-11-12T05:36:44.358208Z",
     "iopub.status.idle": "2024-11-12T05:36:44.358208Z",
     "shell.execute_reply": "2024-11-12T05:36:44.358208Z",
     "shell.execute_reply.started": "2024-11-12T05:36:44.358208Z"
    }
   },
   "outputs": [
    {
     "data": {
      "application/vnd.jupyter.widget-view+json": {
       "model_id": "852ab97f6cf543028633ad647e30db3d",
       "version_major": 2,
       "version_minor": 0
      },
      "text/plain": [
       "<multiple>:   0%|          | 0.00/167M [00:00<?, ?B/s]"
      ]
     },
     "metadata": {},
     "output_type": "display_data"
    },
    {
     "data": {
      "text/plain": [
       "<ecmwf.opendata.client.Result at 0x2364d23aea0>"
      ]
     },
     "execution_count": 5,
     "metadata": {},
     "output_type": "execute_result"
    }
   ],
   "source": [
    "step = list(range(3, 73, 3))\n",
    "\n",
    "client.retrieve(\n",
    "    time=0,\n",
    "    type=\"fc\",\n",
    "    stream='oper',step=step,\n",
    "    param=['d','gh',\"r\",\"vo\"],\n",
    "    levelist=[ 850, 500],\n",
    "    target=\"atms.grib2\",\n",
    ")"
   ]
  },
  {
   "cell_type": "code",
   "execution_count": 6,
   "id": "ba79e299",
   "metadata": {},
   "outputs": [],
   "source": [
    "ds_850=xr.open_dataset('atms.grib2',engine='cfgrib').sel(longitude=slice(60,100),latitude=slice(40,0),isobaricInhPa=850)\n",
    "ds_500=xr.open_dataset('atms.grib2',engine='cfgrib').sel(longitude=slice(60,100),latitude=slice(40,0),isobaricInhPa=500)\n"
   ]
  },
  {
   "cell_type": "code",
   "execution_count": 9,
   "id": "3b220754",
   "metadata": {},
   "outputs": [],
   "source": [
    "gh8=ds_850['gh']\n",
    "d8=ds_850['d']\n",
    "r8=ds_850['r']\n",
    "vo8=ds_850['vo']\n",
    "\n",
    "dict_l(gh8,\"gh850\")\n",
    "dict_l(d8*1e5,\"div850\")\n",
    "dict_l(r8,\"rh850\")\n",
    "dict_l(vo8*1e5,\"vo850\")\n",
    "\n",
    "\n",
    "\n",
    "\n",
    "gh5=ds_500['gh']\n",
    "d5=ds_500['d']\n",
    "r5=ds_500['r']\n",
    "vo5=ds_500['vo']\n",
    "\n",
    "dict_l(gh5,\"gh500\")\n",
    "dict_l(d5*1e5,\"div500\")\n",
    "dict_l(r5,\"rh500\")\n",
    "dict_l(vo5*1e5,\"vo500\")\n",
    "\n",
    "ds_850.close()\n",
    "ds_500.close()\n"
   ]
  },
  {
   "cell_type": "code",
   "execution_count": 10,
   "id": "13d01829",
   "metadata": {},
   "outputs": [
    {
     "data": {
      "application/vnd.jupyter.widget-view+json": {
       "model_id": "dea3edc6ced445959387ed714c6c2a7d",
       "version_major": 2,
       "version_minor": 0
      },
      "text/plain": [
       "<multiple>:   0%|          | 0.00/60.7M [00:00<?, ?B/s]"
      ]
     },
     "metadata": {},
     "output_type": "display_data"
    },
    {
     "data": {
      "text/plain": [
       "<ecmwf.opendata.client.Result at 0x236509d15e0>"
      ]
     },
     "execution_count": 10,
     "metadata": {},
     "output_type": "execute_result"
    }
   ],
   "source": [
    "step = list(range(3, 73, 3))\n",
    "\n",
    "\n",
    "client.retrieve(\n",
    "    time=0,\n",
    "    type=\"fc\",\n",
    "    stream='oper',step=step,\n",
    "    param=['tp','tcwv',\"msl\",\"2t\"],\n",
    "    target=\"atms.grib2\",\n",
    ")\n",
    "\n",
    "\n"
   ]
  },
  {
   "cell_type": "code",
   "execution_count": 15,
   "id": "2e1216be-6e81-4adb-b071-eca01b558cc4",
   "metadata": {
    "execution": {
     "iopub.execute_input": "2024-11-12T07:40:57.771959Z",
     "iopub.status.busy": "2024-11-12T07:40:57.771959Z",
     "iopub.status.idle": "2024-11-12T07:40:59.452275Z",
     "shell.execute_reply": "2024-11-12T07:40:59.451756Z",
     "shell.execute_reply.started": "2024-11-12T07:40:57.771959Z"
    }
   },
   "outputs": [
    {
     "name": "stderr",
     "output_type": "stream",
     "text": [
      "WARNING:cfgrib.messages:Ignoring index file 'atms.grib2.5b7b6.idx' older than GRIB file\n"
     ]
    }
   ],
   "source": [
    "# import cfgrib\n",
    "t2 = xr.open_dataset('atms.grib2',engine='cfgrib',decode_coords=\"all\",\n",
    "                     backend_kwargs={ 'filter_by_keys':{ 'cfVarName': 't2m',}}).sel(longitude=slice(60,100),latitude=slice(40,0))['t2m']\n",
    "ds=xr.open_dataset('atms.grib2',engine='cfgrib')\n",
    "rf = ds.sel(longitude=slice(60,100),latitude=slice(40,0))['tp'][:, :, :]  # Select a specific time slice\n",
    "p =ds.sel(longitude=slice(60,100),latitude=slice(40,0))['msl'][:, :, :]/100  # Select a specific time slice\n",
    "tcw=ds.sel(longitude=slice(60,100),latitude=slice(40,0))['tcwv']\n",
    "\n",
    "rf2=rf* units('m').to(units.mm)\n"
   ]
  },
  {
   "cell_type": "code",
   "execution_count": 17,
   "id": "62e43707",
   "metadata": {},
   "outputs": [],
   "source": [
    "dict_l(t2,\"2m_temp\")\n",
    "dict_l(rf2,\"rf\")\n",
    "dict_l(p,\"msl\")\n",
    "dict_l(tcw,\"tcwv\")\n",
    "# dict(w10,\"w10\")\n",
    "# dict(tcw,\"tcwv\")\n"
   ]
  }
 ],
 "metadata": {
  "kernelspec": {
   "display_name": "wrf_plot",
   "language": "python",
   "name": "python3"
  },
  "language_info": {
   "codemirror_mode": {
    "name": "ipython",
    "version": 3
   },
   "file_extension": ".py",
   "mimetype": "text/x-python",
   "name": "python",
   "nbconvert_exporter": "python",
   "pygments_lexer": "ipython3",
   "version": "3.12.8"
  }
 },
 "nbformat": 4,
 "nbformat_minor": 5
}
