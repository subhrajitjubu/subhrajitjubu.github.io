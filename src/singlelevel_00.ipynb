{
 "cells": [
  {
   "cell_type": "code",
   "execution_count": null,
   "id": "c5b76488-4c5f-4eb1-a175-c32e14e94f93",
   "metadata": {
    "execution": {
     "iopub.execute_input": "2024-11-12T07:37:31.203749Z",
     "iopub.status.busy": "2024-11-12T07:37:31.203749Z",
     "iopub.status.idle": "2024-11-12T07:37:34.303469Z",
     "shell.execute_reply": "2024-11-12T07:37:34.303469Z",
     "shell.execute_reply.started": "2024-11-12T07:37:31.203749Z"
    }
   },
   "outputs": [],
   "source": [
    "!pip install geopandas metpy xarray[complete] -q\n",
    "!pip install eccodes cfgrib rioxarray ecmwf.opendata "
   ]
  },
  {
   "cell_type": "code",
   "execution_count": 2,
   "id": "94385330-0b94-458c-8208-d83f44687557",
   "metadata": {
    "execution": {
     "iopub.execute_input": "2024-11-12T07:40:52.720157Z",
     "iopub.status.busy": "2024-11-12T07:40:52.720157Z",
     "iopub.status.idle": "2024-11-12T07:40:54.619552Z",
     "shell.execute_reply": "2024-11-12T07:40:54.618550Z",
     "shell.execute_reply.started": "2024-11-12T07:40:52.720157Z"
    }
   },
   "outputs": [],
   "source": [
    "import xarray as xr\n",
    "import cfgrib\n",
    "import os \n",
    "from ecmwf.opendata import Client\n",
    "# plt.style.available\n",
    "#import colormaps as cmaps \n",
    "import concurrent\n",
    "import numpy as np\n",
    "\n",
    "\n",
    "from IPython.display import HTML\n",
    "\n",
    "# Disable warnings for data download via API\n",
    "import urllib3\n",
    "urllib3.disable_warnings()\n",
    "client = Client(source=\"ecmwf\")\n",
    "import metpy.calc as mpcalc\n",
    "from metpy.units import units\n",
    "import json\n",
    "import pandas as pd\n",
    "from datetime import datetime, timedelta\n",
    "\n",
    "import rioxarray\n",
    "import xarray as xr\n",
    "import cfgrib\n",
    "\n",
    "import json\n",
    "import zipfile\n",
    "import os\n",
    "from os import walk\n"
   ]
  },
  {
   "cell_type": "code",
   "execution_count": 3,
   "id": "a5733c06",
   "metadata": {},
   "outputs": [],
   "source": [
    "\n",
    "def dict_l(data,fm):\n",
    "  data_dict=data.sel(longitude=slice(60, 100), latitude=slice(38, 0)).squeeze().to_dict(data='list', encoding=False)\n",
    "  def convert_types(obj):\n",
    "    if isinstance(obj, (np.datetime64, pd.Timestamp, datetime)):\n",
    "        return obj.isoformat()  # Convert datetime objects to ISO format\n",
    "    elif isinstance(obj, timedelta):\n",
    "        return obj.total_seconds()  # Convert timedelta to total seconds\n",
    "    elif isinstance(obj, np.ndarray):\n",
    "        return obj.tolist()  # Convert numpy arrays to lists\n",
    "    elif isinstance(obj, (np.float32, np.float64)):\n",
    "        return float(obj)  # Convert numpy floats to native floats\n",
    "    elif isinstance(obj, (np.int32, np.int64)):\n",
    "        return int(obj)  # Convert numpy integers to native ints\n",
    "    raise TypeError(f\"Type {type(obj)} not serializable\")\n",
    "\n",
    "  file=f\"{fm}.json\"\n",
    "  # Save the dictionary as a JSON file with the extended convert_types function\n",
    "  with open(file, 'w') as json_file:\n",
    "      json.dump(data_dict, json_file, indent=4, default=convert_types)"
   ]
  },
  {
   "cell_type": "code",
   "execution_count": null,
   "id": "8a584e22-bddb-4933-8025-5617e7345164",
   "metadata": {
    "execution": {
     "iopub.execute_input": "2024-11-12T05:46:34.688071Z",
     "iopub.status.busy": "2024-11-12T05:46:34.688071Z",
     "iopub.status.idle": "2024-11-12T05:46:34.702078Z",
     "shell.execute_reply": "2024-11-12T05:46:34.702078Z",
     "shell.execute_reply.started": "2024-11-12T05:46:34.688071Z"
    }
   },
   "outputs": [],
   "source": [
    "# HRES:\n",
    "\n",
    "# fc: Forecast.\n",
    "# ENS:\n",
    "\n",
    "# cf: Control forecast.\n",
    "# pf: Perturbed forecast.\n",
    "# em: Ensemble mean.\n",
    "# es: Ensemble standard deviation.\n",
    "# ep: Probabilities.\n",
    "# Valid values for stream are:\n",
    "\n",
    "# oper: Atmospheric fields from HRES - 00 UTC and 12 UTC.\n",
    "# wave: Ocean wave fields from HRES - 00 UTC and 12 UTC.\n",
    "# enfo: Atmospheric fields from ENS.\n",
    "# waef: Ocean wave fields from ENS.\n",
    "# scda: Atmospheric fields from HRES - 06 UTC and 18 UTC.\n",
    "# scwv: Ocean wave fields from HRES - 06 UTC and 18 UTC."
   ]
  },
  {
   "cell_type": "code",
   "execution_count": 5,
   "id": "28e9cd52-b894-4977-a4d4-221b089e93dc",
   "metadata": {
    "execution": {
     "iopub.status.busy": "2024-11-12T05:36:44.358208Z",
     "iopub.status.idle": "2024-11-12T05:36:44.358208Z",
     "shell.execute_reply": "2024-11-12T05:36:44.358208Z",
     "shell.execute_reply.started": "2024-11-12T05:36:44.358208Z"
    }
   },
   "outputs": [
    {
     "ename": "KeyboardInterrupt",
     "evalue": "",
     "output_type": "error",
     "traceback": [
      "\u001b[1;31m---------------------------------------------------------------------------\u001b[0m",
      "\u001b[1;31mKeyboardInterrupt\u001b[0m                         Traceback (most recent call last)",
      "Cell \u001b[1;32mIn[5], line 3\u001b[0m\n\u001b[0;32m      1\u001b[0m step \u001b[38;5;241m=\u001b[39m \u001b[38;5;28mlist\u001b[39m(\u001b[38;5;28mrange\u001b[39m(\u001b[38;5;241m3\u001b[39m, \u001b[38;5;241m145\u001b[39m, \u001b[38;5;241m3\u001b[39m))\n\u001b[1;32m----> 3\u001b[0m \u001b[43mclient\u001b[49m\u001b[38;5;241;43m.\u001b[39;49m\u001b[43mretrieve\u001b[49m\u001b[43m(\u001b[49m\n\u001b[0;32m      4\u001b[0m \u001b[43m    \u001b[49m\u001b[43mtime\u001b[49m\u001b[38;5;241;43m=\u001b[39;49m\u001b[38;5;241;43m0\u001b[39;49m\u001b[43m,\u001b[49m\n\u001b[0;32m      5\u001b[0m \u001b[43m    \u001b[49m\u001b[38;5;28;43mtype\u001b[39;49m\u001b[38;5;241;43m=\u001b[39;49m\u001b[38;5;124;43m\"\u001b[39;49m\u001b[38;5;124;43mfc\u001b[39;49m\u001b[38;5;124;43m\"\u001b[39;49m\u001b[43m,\u001b[49m\n\u001b[0;32m      6\u001b[0m \u001b[43m    \u001b[49m\u001b[43mstream\u001b[49m\u001b[38;5;241;43m=\u001b[39;49m\u001b[38;5;124;43m'\u001b[39;49m\u001b[38;5;124;43moper\u001b[39;49m\u001b[38;5;124;43m'\u001b[39;49m\u001b[43m,\u001b[49m\u001b[43mstep\u001b[49m\u001b[38;5;241;43m=\u001b[39;49m\u001b[43mstep\u001b[49m\u001b[43m,\u001b[49m\n\u001b[0;32m      7\u001b[0m \u001b[43m    \u001b[49m\u001b[43mparam\u001b[49m\u001b[38;5;241;43m=\u001b[39;49m\u001b[43m[\u001b[49m\u001b[38;5;124;43m'\u001b[39;49m\u001b[38;5;124;43md\u001b[39;49m\u001b[38;5;124;43m'\u001b[39;49m\u001b[43m,\u001b[49m\u001b[38;5;124;43m'\u001b[39;49m\u001b[38;5;124;43mgh\u001b[39;49m\u001b[38;5;124;43m'\u001b[39;49m\u001b[43m,\u001b[49m\u001b[38;5;124;43m\"\u001b[39;49m\u001b[38;5;124;43mr\u001b[39;49m\u001b[38;5;124;43m\"\u001b[39;49m\u001b[43m,\u001b[49m\u001b[38;5;124;43m\"\u001b[39;49m\u001b[38;5;124;43mvo\u001b[39;49m\u001b[38;5;124;43m\"\u001b[39;49m\u001b[43m]\u001b[49m\u001b[43m,\u001b[49m\n\u001b[0;32m      8\u001b[0m \u001b[43m    \u001b[49m\u001b[43mlevelist\u001b[49m\u001b[38;5;241;43m=\u001b[39;49m\u001b[43m[\u001b[49m\u001b[43m \u001b[49m\u001b[38;5;241;43m850\u001b[39;49m\u001b[43m,\u001b[49m\u001b[43m \u001b[49m\u001b[38;5;241;43m500\u001b[39;49m\u001b[43m]\u001b[49m\u001b[43m,\u001b[49m\n\u001b[0;32m      9\u001b[0m \u001b[43m    \u001b[49m\u001b[43mtarget\u001b[49m\u001b[38;5;241;43m=\u001b[39;49m\u001b[38;5;124;43m\"\u001b[39;49m\u001b[38;5;124;43matms.grib2\u001b[39;49m\u001b[38;5;124;43m\"\u001b[39;49m\u001b[43m,\u001b[49m\n\u001b[0;32m     10\u001b[0m \u001b[43m)\u001b[49m\n",
      "File \u001b[1;32m~\\AppData\\Roaming\\Python\\Python312\\site-packages\\ecmwf\\opendata\\client.py:146\u001b[0m, in \u001b[0;36mClient.retrieve\u001b[1;34m(self, request, target, **kwargs)\u001b[0m\n\u001b[0;32m    145\u001b[0m \u001b[38;5;28;01mdef\u001b[39;00m \u001b[38;5;21mretrieve\u001b[39m(\u001b[38;5;28mself\u001b[39m, request\u001b[38;5;241m=\u001b[39m\u001b[38;5;28;01mNone\u001b[39;00m, target\u001b[38;5;241m=\u001b[39m\u001b[38;5;28;01mNone\u001b[39;00m, \u001b[38;5;241m*\u001b[39m\u001b[38;5;241m*\u001b[39mkwargs):\n\u001b[1;32m--> 146\u001b[0m     result \u001b[38;5;241m=\u001b[39m \u001b[38;5;28;43mself\u001b[39;49m\u001b[38;5;241;43m.\u001b[39;49m\u001b[43m_get_urls\u001b[49m\u001b[43m(\u001b[49m\u001b[43mrequest\u001b[49m\u001b[43m,\u001b[49m\u001b[43m \u001b[49m\u001b[43mtarget\u001b[49m\u001b[38;5;241;43m=\u001b[39;49m\u001b[43mtarget\u001b[49m\u001b[43m,\u001b[49m\u001b[43m \u001b[49m\u001b[43muse_index\u001b[49m\u001b[38;5;241;43m=\u001b[39;49m\u001b[38;5;28;43;01mTrue\u001b[39;49;00m\u001b[43m,\u001b[49m\u001b[43m \u001b[49m\u001b[38;5;241;43m*\u001b[39;49m\u001b[38;5;241;43m*\u001b[39;49m\u001b[43mkwargs\u001b[49m\u001b[43m)\u001b[49m\n\u001b[0;32m    147\u001b[0m     result\u001b[38;5;241m.\u001b[39msize \u001b[38;5;241m=\u001b[39m download(\n\u001b[0;32m    148\u001b[0m         result\u001b[38;5;241m.\u001b[39murls,\n\u001b[0;32m    149\u001b[0m         target\u001b[38;5;241m=\u001b[39mresult\u001b[38;5;241m.\u001b[39mtarget,\n\u001b[0;32m    150\u001b[0m         verify\u001b[38;5;241m=\u001b[39m\u001b[38;5;28mself\u001b[39m\u001b[38;5;241m.\u001b[39mverify,\n\u001b[0;32m    151\u001b[0m         session\u001b[38;5;241m=\u001b[39m\u001b[38;5;28mself\u001b[39m\u001b[38;5;241m.\u001b[39msession,\n\u001b[0;32m    152\u001b[0m     )\n\u001b[0;32m    153\u001b[0m     \u001b[38;5;28;01mreturn\u001b[39;00m result\n",
      "File \u001b[1;32m~\\AppData\\Roaming\\Python\\Python312\\site-packages\\ecmwf\\opendata\\client.py:205\u001b[0m, in \u001b[0;36mClient._get_urls\u001b[1;34m(self, request, use_index, target, **kwargs)\u001b[0m\n\u001b[0;32m    202\u001b[0m     params \u001b[38;5;241m=\u001b[39m \u001b[38;5;28mdict\u001b[39m(\u001b[38;5;241m*\u001b[39m\u001b[38;5;241m*\u001b[39mrequest)\n\u001b[0;32m    204\u001b[0m \u001b[38;5;28;01mif\u001b[39;00m \u001b[38;5;124m\"\u001b[39m\u001b[38;5;124mdate\u001b[39m\u001b[38;5;124m\"\u001b[39m \u001b[38;5;129;01mnot\u001b[39;00m \u001b[38;5;129;01min\u001b[39;00m params:\n\u001b[1;32m--> 205\u001b[0m     params[\u001b[38;5;124m\"\u001b[39m\u001b[38;5;124mdate\u001b[39m\u001b[38;5;124m\"\u001b[39m] \u001b[38;5;241m=\u001b[39m \u001b[38;5;28;43mself\u001b[39;49m\u001b[38;5;241;43m.\u001b[39;49m\u001b[43mlatest\u001b[49m\u001b[43m(\u001b[49m\u001b[43mparams\u001b[49m\u001b[43m)\u001b[49m\n\u001b[0;32m    207\u001b[0m \u001b[38;5;28;01mif\u001b[39;00m target \u001b[38;5;129;01mis\u001b[39;00m \u001b[38;5;28;01mNone\u001b[39;00m:\n\u001b[0;32m    208\u001b[0m     target \u001b[38;5;241m=\u001b[39m params\u001b[38;5;241m.\u001b[39mpop(\u001b[38;5;124m\"\u001b[39m\u001b[38;5;124mtarget\u001b[39m\u001b[38;5;124m\"\u001b[39m, \u001b[38;5;28;01mNone\u001b[39;00m)\n",
      "File \u001b[1;32m~\\AppData\\Roaming\\Python\\Python312\\site-packages\\ecmwf\\opendata\\client.py:188\u001b[0m, in \u001b[0;36mClient.latest\u001b[1;34m(self, request, **kwargs)\u001b[0m\n\u001b[0;32m    180\u001b[0m \u001b[38;5;28;01mwhile\u001b[39;00m date \u001b[38;5;241m>\u001b[39m stop:\n\u001b[0;32m    181\u001b[0m     result \u001b[38;5;241m=\u001b[39m \u001b[38;5;28mself\u001b[39m\u001b[38;5;241m.\u001b[39m_get_urls(\n\u001b[0;32m    182\u001b[0m         request\u001b[38;5;241m=\u001b[39m\u001b[38;5;28;01mNone\u001b[39;00m,\n\u001b[0;32m    183\u001b[0m         use_index\u001b[38;5;241m=\u001b[39m\u001b[38;5;28;01mFalse\u001b[39;00m,\n\u001b[0;32m    184\u001b[0m         date\u001b[38;5;241m=\u001b[39mdate,\n\u001b[0;32m    185\u001b[0m         \u001b[38;5;241m*\u001b[39m\u001b[38;5;241m*\u001b[39mparams,\n\u001b[0;32m    186\u001b[0m     )\n\u001b[0;32m    187\u001b[0m     codes \u001b[38;5;241m=\u001b[39m [\n\u001b[1;32m--> 188\u001b[0m         \u001b[43mrobust\u001b[49m\u001b[43m(\u001b[49m\u001b[38;5;28;43mself\u001b[39;49m\u001b[38;5;241;43m.\u001b[39;49m\u001b[43msession\u001b[49m\u001b[38;5;241;43m.\u001b[39;49m\u001b[43mhead\u001b[49m\u001b[43m)\u001b[49m\u001b[43m(\u001b[49m\u001b[43murl\u001b[49m\u001b[43m,\u001b[49m\u001b[43m \u001b[49m\u001b[43mverify\u001b[49m\u001b[38;5;241;43m=\u001b[39;49m\u001b[38;5;28;43mself\u001b[39;49m\u001b[38;5;241;43m.\u001b[39;49m\u001b[43mverify\u001b[49m\u001b[43m)\u001b[49m\u001b[38;5;241m.\u001b[39mstatus_code\n\u001b[0;32m    189\u001b[0m         \u001b[38;5;28;01mfor\u001b[39;00m url \u001b[38;5;129;01min\u001b[39;00m result\u001b[38;5;241m.\u001b[39murls\n\u001b[0;32m    190\u001b[0m     ]\n\u001b[0;32m    191\u001b[0m     \u001b[38;5;28;01mif\u001b[39;00m \u001b[38;5;28mlen\u001b[39m(codes) \u001b[38;5;241m>\u001b[39m \u001b[38;5;241m0\u001b[39m \u001b[38;5;129;01mand\u001b[39;00m \u001b[38;5;28mall\u001b[39m(c \u001b[38;5;241m==\u001b[39m \u001b[38;5;241m200\u001b[39m \u001b[38;5;28;01mfor\u001b[39;00m c \u001b[38;5;129;01min\u001b[39;00m codes):\n\u001b[0;32m    192\u001b[0m         \u001b[38;5;28;01mreturn\u001b[39;00m date\n",
      "File \u001b[1;32m~\\AppData\\Roaming\\Python\\Python312\\site-packages\\multiurl\\http.py:479\u001b[0m, in \u001b[0;36mrobust.<locals>.wrapped\u001b[1;34m(url, *args, **kwargs)\u001b[0m\n\u001b[0;32m    476\u001b[0m     \u001b[38;5;28;01mreturn\u001b[39;00m call(main_url, \u001b[38;5;241m*\u001b[39margs, \u001b[38;5;241m*\u001b[39m\u001b[38;5;241m*\u001b[39mkwargs)\n\u001b[0;32m    478\u001b[0m \u001b[38;5;28;01mtry\u001b[39;00m:\n\u001b[1;32m--> 479\u001b[0m     r \u001b[38;5;241m=\u001b[39m \u001b[43mcall\u001b[49m\u001b[43m(\u001b[49m\u001b[43mmain_url\u001b[49m\u001b[43m,\u001b[49m\u001b[43m \u001b[49m\u001b[38;5;241;43m*\u001b[39;49m\u001b[43margs\u001b[49m\u001b[43m,\u001b[49m\u001b[43m \u001b[49m\u001b[38;5;241;43m*\u001b[39;49m\u001b[38;5;241;43m*\u001b[39;49m\u001b[43mkwargs\u001b[49m\u001b[43m)\u001b[49m\n\u001b[0;32m    480\u001b[0m \u001b[38;5;28;01mexcept\u001b[39;00m requests\u001b[38;5;241m.\u001b[39mexceptions\u001b[38;5;241m.\u001b[39mSSLError:\n\u001b[0;32m    481\u001b[0m     \u001b[38;5;28;01mraise\u001b[39;00m\n",
      "File \u001b[1;32me:\\anaconda3\\envs\\wrf_plot\\Lib\\site-packages\\requests\\sessions.py:624\u001b[0m, in \u001b[0;36mSession.head\u001b[1;34m(self, url, **kwargs)\u001b[0m\n\u001b[0;32m    616\u001b[0m \u001b[38;5;250m\u001b[39m\u001b[38;5;124mr\u001b[39m\u001b[38;5;124;03m\"\"\"Sends a HEAD request. Returns :class:`Response` object.\u001b[39;00m\n\u001b[0;32m    617\u001b[0m \n\u001b[0;32m    618\u001b[0m \u001b[38;5;124;03m:param url: URL for the new :class:`Request` object.\u001b[39;00m\n\u001b[0;32m    619\u001b[0m \u001b[38;5;124;03m:param \\*\\*kwargs: Optional arguments that ``request`` takes.\u001b[39;00m\n\u001b[0;32m    620\u001b[0m \u001b[38;5;124;03m:rtype: requests.Response\u001b[39;00m\n\u001b[0;32m    621\u001b[0m \u001b[38;5;124;03m\"\"\"\u001b[39;00m\n\u001b[0;32m    623\u001b[0m kwargs\u001b[38;5;241m.\u001b[39msetdefault(\u001b[38;5;124m\"\u001b[39m\u001b[38;5;124mallow_redirects\u001b[39m\u001b[38;5;124m\"\u001b[39m, \u001b[38;5;28;01mFalse\u001b[39;00m)\n\u001b[1;32m--> 624\u001b[0m \u001b[38;5;28;01mreturn\u001b[39;00m \u001b[38;5;28;43mself\u001b[39;49m\u001b[38;5;241;43m.\u001b[39;49m\u001b[43mrequest\u001b[49m\u001b[43m(\u001b[49m\u001b[38;5;124;43m\"\u001b[39;49m\u001b[38;5;124;43mHEAD\u001b[39;49m\u001b[38;5;124;43m\"\u001b[39;49m\u001b[43m,\u001b[49m\u001b[43m \u001b[49m\u001b[43murl\u001b[49m\u001b[43m,\u001b[49m\u001b[43m \u001b[49m\u001b[38;5;241;43m*\u001b[39;49m\u001b[38;5;241;43m*\u001b[39;49m\u001b[43mkwargs\u001b[49m\u001b[43m)\u001b[49m\n",
      "File \u001b[1;32me:\\anaconda3\\envs\\wrf_plot\\Lib\\site-packages\\requests\\sessions.py:589\u001b[0m, in \u001b[0;36mSession.request\u001b[1;34m(self, method, url, params, data, headers, cookies, files, auth, timeout, allow_redirects, proxies, hooks, stream, verify, cert, json)\u001b[0m\n\u001b[0;32m    584\u001b[0m send_kwargs \u001b[38;5;241m=\u001b[39m {\n\u001b[0;32m    585\u001b[0m     \u001b[38;5;124m\"\u001b[39m\u001b[38;5;124mtimeout\u001b[39m\u001b[38;5;124m\"\u001b[39m: timeout,\n\u001b[0;32m    586\u001b[0m     \u001b[38;5;124m\"\u001b[39m\u001b[38;5;124mallow_redirects\u001b[39m\u001b[38;5;124m\"\u001b[39m: allow_redirects,\n\u001b[0;32m    587\u001b[0m }\n\u001b[0;32m    588\u001b[0m send_kwargs\u001b[38;5;241m.\u001b[39mupdate(settings)\n\u001b[1;32m--> 589\u001b[0m resp \u001b[38;5;241m=\u001b[39m \u001b[38;5;28;43mself\u001b[39;49m\u001b[38;5;241;43m.\u001b[39;49m\u001b[43msend\u001b[49m\u001b[43m(\u001b[49m\u001b[43mprep\u001b[49m\u001b[43m,\u001b[49m\u001b[43m \u001b[49m\u001b[38;5;241;43m*\u001b[39;49m\u001b[38;5;241;43m*\u001b[39;49m\u001b[43msend_kwargs\u001b[49m\u001b[43m)\u001b[49m\n\u001b[0;32m    591\u001b[0m \u001b[38;5;28;01mreturn\u001b[39;00m resp\n",
      "File \u001b[1;32me:\\anaconda3\\envs\\wrf_plot\\Lib\\site-packages\\requests\\sessions.py:703\u001b[0m, in \u001b[0;36mSession.send\u001b[1;34m(self, request, **kwargs)\u001b[0m\n\u001b[0;32m    700\u001b[0m start \u001b[38;5;241m=\u001b[39m preferred_clock()\n\u001b[0;32m    702\u001b[0m \u001b[38;5;66;03m# Send the request\u001b[39;00m\n\u001b[1;32m--> 703\u001b[0m r \u001b[38;5;241m=\u001b[39m \u001b[43madapter\u001b[49m\u001b[38;5;241;43m.\u001b[39;49m\u001b[43msend\u001b[49m\u001b[43m(\u001b[49m\u001b[43mrequest\u001b[49m\u001b[43m,\u001b[49m\u001b[43m \u001b[49m\u001b[38;5;241;43m*\u001b[39;49m\u001b[38;5;241;43m*\u001b[39;49m\u001b[43mkwargs\u001b[49m\u001b[43m)\u001b[49m\n\u001b[0;32m    705\u001b[0m \u001b[38;5;66;03m# Total elapsed time of the request (approximately)\u001b[39;00m\n\u001b[0;32m    706\u001b[0m elapsed \u001b[38;5;241m=\u001b[39m preferred_clock() \u001b[38;5;241m-\u001b[39m start\n",
      "File \u001b[1;32me:\\anaconda3\\envs\\wrf_plot\\Lib\\site-packages\\requests\\adapters.py:667\u001b[0m, in \u001b[0;36mHTTPAdapter.send\u001b[1;34m(self, request, stream, timeout, verify, cert, proxies)\u001b[0m\n\u001b[0;32m    664\u001b[0m     timeout \u001b[38;5;241m=\u001b[39m TimeoutSauce(connect\u001b[38;5;241m=\u001b[39mtimeout, read\u001b[38;5;241m=\u001b[39mtimeout)\n\u001b[0;32m    666\u001b[0m \u001b[38;5;28;01mtry\u001b[39;00m:\n\u001b[1;32m--> 667\u001b[0m     resp \u001b[38;5;241m=\u001b[39m \u001b[43mconn\u001b[49m\u001b[38;5;241;43m.\u001b[39;49m\u001b[43murlopen\u001b[49m\u001b[43m(\u001b[49m\n\u001b[0;32m    668\u001b[0m \u001b[43m        \u001b[49m\u001b[43mmethod\u001b[49m\u001b[38;5;241;43m=\u001b[39;49m\u001b[43mrequest\u001b[49m\u001b[38;5;241;43m.\u001b[39;49m\u001b[43mmethod\u001b[49m\u001b[43m,\u001b[49m\n\u001b[0;32m    669\u001b[0m \u001b[43m        \u001b[49m\u001b[43murl\u001b[49m\u001b[38;5;241;43m=\u001b[39;49m\u001b[43murl\u001b[49m\u001b[43m,\u001b[49m\n\u001b[0;32m    670\u001b[0m \u001b[43m        \u001b[49m\u001b[43mbody\u001b[49m\u001b[38;5;241;43m=\u001b[39;49m\u001b[43mrequest\u001b[49m\u001b[38;5;241;43m.\u001b[39;49m\u001b[43mbody\u001b[49m\u001b[43m,\u001b[49m\n\u001b[0;32m    671\u001b[0m \u001b[43m        \u001b[49m\u001b[43mheaders\u001b[49m\u001b[38;5;241;43m=\u001b[39;49m\u001b[43mrequest\u001b[49m\u001b[38;5;241;43m.\u001b[39;49m\u001b[43mheaders\u001b[49m\u001b[43m,\u001b[49m\n\u001b[0;32m    672\u001b[0m \u001b[43m        \u001b[49m\u001b[43mredirect\u001b[49m\u001b[38;5;241;43m=\u001b[39;49m\u001b[38;5;28;43;01mFalse\u001b[39;49;00m\u001b[43m,\u001b[49m\n\u001b[0;32m    673\u001b[0m \u001b[43m        \u001b[49m\u001b[43massert_same_host\u001b[49m\u001b[38;5;241;43m=\u001b[39;49m\u001b[38;5;28;43;01mFalse\u001b[39;49;00m\u001b[43m,\u001b[49m\n\u001b[0;32m    674\u001b[0m \u001b[43m        \u001b[49m\u001b[43mpreload_content\u001b[49m\u001b[38;5;241;43m=\u001b[39;49m\u001b[38;5;28;43;01mFalse\u001b[39;49;00m\u001b[43m,\u001b[49m\n\u001b[0;32m    675\u001b[0m \u001b[43m        \u001b[49m\u001b[43mdecode_content\u001b[49m\u001b[38;5;241;43m=\u001b[39;49m\u001b[38;5;28;43;01mFalse\u001b[39;49;00m\u001b[43m,\u001b[49m\n\u001b[0;32m    676\u001b[0m \u001b[43m        \u001b[49m\u001b[43mretries\u001b[49m\u001b[38;5;241;43m=\u001b[39;49m\u001b[38;5;28;43mself\u001b[39;49m\u001b[38;5;241;43m.\u001b[39;49m\u001b[43mmax_retries\u001b[49m\u001b[43m,\u001b[49m\n\u001b[0;32m    677\u001b[0m \u001b[43m        \u001b[49m\u001b[43mtimeout\u001b[49m\u001b[38;5;241;43m=\u001b[39;49m\u001b[43mtimeout\u001b[49m\u001b[43m,\u001b[49m\n\u001b[0;32m    678\u001b[0m \u001b[43m        \u001b[49m\u001b[43mchunked\u001b[49m\u001b[38;5;241;43m=\u001b[39;49m\u001b[43mchunked\u001b[49m\u001b[43m,\u001b[49m\n\u001b[0;32m    679\u001b[0m \u001b[43m    \u001b[49m\u001b[43m)\u001b[49m\n\u001b[0;32m    681\u001b[0m \u001b[38;5;28;01mexcept\u001b[39;00m (ProtocolError, \u001b[38;5;167;01mOSError\u001b[39;00m) \u001b[38;5;28;01mas\u001b[39;00m err:\n\u001b[0;32m    682\u001b[0m     \u001b[38;5;28;01mraise\u001b[39;00m \u001b[38;5;167;01mConnectionError\u001b[39;00m(err, request\u001b[38;5;241m=\u001b[39mrequest)\n",
      "File \u001b[1;32me:\\anaconda3\\envs\\wrf_plot\\Lib\\site-packages\\urllib3\\connectionpool.py:789\u001b[0m, in \u001b[0;36mHTTPConnectionPool.urlopen\u001b[1;34m(self, method, url, body, headers, retries, redirect, assert_same_host, timeout, pool_timeout, release_conn, chunked, body_pos, preload_content, decode_content, **response_kw)\u001b[0m\n\u001b[0;32m    786\u001b[0m response_conn \u001b[38;5;241m=\u001b[39m conn \u001b[38;5;28;01mif\u001b[39;00m \u001b[38;5;129;01mnot\u001b[39;00m release_conn \u001b[38;5;28;01melse\u001b[39;00m \u001b[38;5;28;01mNone\u001b[39;00m\n\u001b[0;32m    788\u001b[0m \u001b[38;5;66;03m# Make the request on the HTTPConnection object\u001b[39;00m\n\u001b[1;32m--> 789\u001b[0m response \u001b[38;5;241m=\u001b[39m \u001b[38;5;28;43mself\u001b[39;49m\u001b[38;5;241;43m.\u001b[39;49m\u001b[43m_make_request\u001b[49m\u001b[43m(\u001b[49m\n\u001b[0;32m    790\u001b[0m \u001b[43m    \u001b[49m\u001b[43mconn\u001b[49m\u001b[43m,\u001b[49m\n\u001b[0;32m    791\u001b[0m \u001b[43m    \u001b[49m\u001b[43mmethod\u001b[49m\u001b[43m,\u001b[49m\n\u001b[0;32m    792\u001b[0m \u001b[43m    \u001b[49m\u001b[43murl\u001b[49m\u001b[43m,\u001b[49m\n\u001b[0;32m    793\u001b[0m \u001b[43m    \u001b[49m\u001b[43mtimeout\u001b[49m\u001b[38;5;241;43m=\u001b[39;49m\u001b[43mtimeout_obj\u001b[49m\u001b[43m,\u001b[49m\n\u001b[0;32m    794\u001b[0m \u001b[43m    \u001b[49m\u001b[43mbody\u001b[49m\u001b[38;5;241;43m=\u001b[39;49m\u001b[43mbody\u001b[49m\u001b[43m,\u001b[49m\n\u001b[0;32m    795\u001b[0m \u001b[43m    \u001b[49m\u001b[43mheaders\u001b[49m\u001b[38;5;241;43m=\u001b[39;49m\u001b[43mheaders\u001b[49m\u001b[43m,\u001b[49m\n\u001b[0;32m    796\u001b[0m \u001b[43m    \u001b[49m\u001b[43mchunked\u001b[49m\u001b[38;5;241;43m=\u001b[39;49m\u001b[43mchunked\u001b[49m\u001b[43m,\u001b[49m\n\u001b[0;32m    797\u001b[0m \u001b[43m    \u001b[49m\u001b[43mretries\u001b[49m\u001b[38;5;241;43m=\u001b[39;49m\u001b[43mretries\u001b[49m\u001b[43m,\u001b[49m\n\u001b[0;32m    798\u001b[0m \u001b[43m    \u001b[49m\u001b[43mresponse_conn\u001b[49m\u001b[38;5;241;43m=\u001b[39;49m\u001b[43mresponse_conn\u001b[49m\u001b[43m,\u001b[49m\n\u001b[0;32m    799\u001b[0m \u001b[43m    \u001b[49m\u001b[43mpreload_content\u001b[49m\u001b[38;5;241;43m=\u001b[39;49m\u001b[43mpreload_content\u001b[49m\u001b[43m,\u001b[49m\n\u001b[0;32m    800\u001b[0m \u001b[43m    \u001b[49m\u001b[43mdecode_content\u001b[49m\u001b[38;5;241;43m=\u001b[39;49m\u001b[43mdecode_content\u001b[49m\u001b[43m,\u001b[49m\n\u001b[0;32m    801\u001b[0m \u001b[43m    \u001b[49m\u001b[38;5;241;43m*\u001b[39;49m\u001b[38;5;241;43m*\u001b[39;49m\u001b[43mresponse_kw\u001b[49m\u001b[43m,\u001b[49m\n\u001b[0;32m    802\u001b[0m \u001b[43m\u001b[49m\u001b[43m)\u001b[49m\n\u001b[0;32m    804\u001b[0m \u001b[38;5;66;03m# Everything went great!\u001b[39;00m\n\u001b[0;32m    805\u001b[0m clean_exit \u001b[38;5;241m=\u001b[39m \u001b[38;5;28;01mTrue\u001b[39;00m\n",
      "File \u001b[1;32me:\\anaconda3\\envs\\wrf_plot\\Lib\\site-packages\\urllib3\\connectionpool.py:536\u001b[0m, in \u001b[0;36mHTTPConnectionPool._make_request\u001b[1;34m(self, conn, method, url, body, headers, retries, timeout, chunked, response_conn, preload_content, decode_content, enforce_content_length)\u001b[0m\n\u001b[0;32m    534\u001b[0m \u001b[38;5;66;03m# Receive the response from the server\u001b[39;00m\n\u001b[0;32m    535\u001b[0m \u001b[38;5;28;01mtry\u001b[39;00m:\n\u001b[1;32m--> 536\u001b[0m     response \u001b[38;5;241m=\u001b[39m \u001b[43mconn\u001b[49m\u001b[38;5;241;43m.\u001b[39;49m\u001b[43mgetresponse\u001b[49m\u001b[43m(\u001b[49m\u001b[43m)\u001b[49m\n\u001b[0;32m    537\u001b[0m \u001b[38;5;28;01mexcept\u001b[39;00m (BaseSSLError, \u001b[38;5;167;01mOSError\u001b[39;00m) \u001b[38;5;28;01mas\u001b[39;00m e:\n\u001b[0;32m    538\u001b[0m     \u001b[38;5;28mself\u001b[39m\u001b[38;5;241m.\u001b[39m_raise_timeout(err\u001b[38;5;241m=\u001b[39me, url\u001b[38;5;241m=\u001b[39murl, timeout_value\u001b[38;5;241m=\u001b[39mread_timeout)\n",
      "File \u001b[1;32me:\\anaconda3\\envs\\wrf_plot\\Lib\\site-packages\\urllib3\\connection.py:507\u001b[0m, in \u001b[0;36mHTTPConnection.getresponse\u001b[1;34m(self)\u001b[0m\n\u001b[0;32m    504\u001b[0m \u001b[38;5;28;01mfrom\u001b[39;00m \u001b[38;5;21;01m.\u001b[39;00m\u001b[38;5;21;01mresponse\u001b[39;00m \u001b[38;5;28;01mimport\u001b[39;00m HTTPResponse\n\u001b[0;32m    506\u001b[0m \u001b[38;5;66;03m# Get the response from http.client.HTTPConnection\u001b[39;00m\n\u001b[1;32m--> 507\u001b[0m httplib_response \u001b[38;5;241m=\u001b[39m \u001b[38;5;28;43msuper\u001b[39;49m\u001b[43m(\u001b[49m\u001b[43m)\u001b[49m\u001b[38;5;241;43m.\u001b[39;49m\u001b[43mgetresponse\u001b[49m\u001b[43m(\u001b[49m\u001b[43m)\u001b[49m\n\u001b[0;32m    509\u001b[0m \u001b[38;5;28;01mtry\u001b[39;00m:\n\u001b[0;32m    510\u001b[0m     assert_header_parsing(httplib_response\u001b[38;5;241m.\u001b[39mmsg)\n",
      "File \u001b[1;32me:\\anaconda3\\envs\\wrf_plot\\Lib\\http\\client.py:1428\u001b[0m, in \u001b[0;36mHTTPConnection.getresponse\u001b[1;34m(self)\u001b[0m\n\u001b[0;32m   1426\u001b[0m \u001b[38;5;28;01mtry\u001b[39;00m:\n\u001b[0;32m   1427\u001b[0m     \u001b[38;5;28;01mtry\u001b[39;00m:\n\u001b[1;32m-> 1428\u001b[0m         \u001b[43mresponse\u001b[49m\u001b[38;5;241;43m.\u001b[39;49m\u001b[43mbegin\u001b[49m\u001b[43m(\u001b[49m\u001b[43m)\u001b[49m\n\u001b[0;32m   1429\u001b[0m     \u001b[38;5;28;01mexcept\u001b[39;00m \u001b[38;5;167;01mConnectionError\u001b[39;00m:\n\u001b[0;32m   1430\u001b[0m         \u001b[38;5;28mself\u001b[39m\u001b[38;5;241m.\u001b[39mclose()\n",
      "File \u001b[1;32me:\\anaconda3\\envs\\wrf_plot\\Lib\\http\\client.py:331\u001b[0m, in \u001b[0;36mHTTPResponse.begin\u001b[1;34m(self)\u001b[0m\n\u001b[0;32m    329\u001b[0m \u001b[38;5;66;03m# read until we get a non-100 response\u001b[39;00m\n\u001b[0;32m    330\u001b[0m \u001b[38;5;28;01mwhile\u001b[39;00m \u001b[38;5;28;01mTrue\u001b[39;00m:\n\u001b[1;32m--> 331\u001b[0m     version, status, reason \u001b[38;5;241m=\u001b[39m \u001b[38;5;28;43mself\u001b[39;49m\u001b[38;5;241;43m.\u001b[39;49m\u001b[43m_read_status\u001b[49m\u001b[43m(\u001b[49m\u001b[43m)\u001b[49m\n\u001b[0;32m    332\u001b[0m     \u001b[38;5;28;01mif\u001b[39;00m status \u001b[38;5;241m!=\u001b[39m CONTINUE:\n\u001b[0;32m    333\u001b[0m         \u001b[38;5;28;01mbreak\u001b[39;00m\n",
      "File \u001b[1;32me:\\anaconda3\\envs\\wrf_plot\\Lib\\http\\client.py:292\u001b[0m, in \u001b[0;36mHTTPResponse._read_status\u001b[1;34m(self)\u001b[0m\n\u001b[0;32m    291\u001b[0m \u001b[38;5;28;01mdef\u001b[39;00m \u001b[38;5;21m_read_status\u001b[39m(\u001b[38;5;28mself\u001b[39m):\n\u001b[1;32m--> 292\u001b[0m     line \u001b[38;5;241m=\u001b[39m \u001b[38;5;28mstr\u001b[39m(\u001b[38;5;28;43mself\u001b[39;49m\u001b[38;5;241;43m.\u001b[39;49m\u001b[43mfp\u001b[49m\u001b[38;5;241;43m.\u001b[39;49m\u001b[43mreadline\u001b[49m\u001b[43m(\u001b[49m\u001b[43m_MAXLINE\u001b[49m\u001b[43m \u001b[49m\u001b[38;5;241;43m+\u001b[39;49m\u001b[43m \u001b[49m\u001b[38;5;241;43m1\u001b[39;49m\u001b[43m)\u001b[49m, \u001b[38;5;124m\"\u001b[39m\u001b[38;5;124miso-8859-1\u001b[39m\u001b[38;5;124m\"\u001b[39m)\n\u001b[0;32m    293\u001b[0m     \u001b[38;5;28;01mif\u001b[39;00m \u001b[38;5;28mlen\u001b[39m(line) \u001b[38;5;241m>\u001b[39m _MAXLINE:\n\u001b[0;32m    294\u001b[0m         \u001b[38;5;28;01mraise\u001b[39;00m LineTooLong(\u001b[38;5;124m\"\u001b[39m\u001b[38;5;124mstatus line\u001b[39m\u001b[38;5;124m\"\u001b[39m)\n",
      "File \u001b[1;32me:\\anaconda3\\envs\\wrf_plot\\Lib\\socket.py:720\u001b[0m, in \u001b[0;36mSocketIO.readinto\u001b[1;34m(self, b)\u001b[0m\n\u001b[0;32m    718\u001b[0m \u001b[38;5;28;01mwhile\u001b[39;00m \u001b[38;5;28;01mTrue\u001b[39;00m:\n\u001b[0;32m    719\u001b[0m     \u001b[38;5;28;01mtry\u001b[39;00m:\n\u001b[1;32m--> 720\u001b[0m         \u001b[38;5;28;01mreturn\u001b[39;00m \u001b[38;5;28;43mself\u001b[39;49m\u001b[38;5;241;43m.\u001b[39;49m\u001b[43m_sock\u001b[49m\u001b[38;5;241;43m.\u001b[39;49m\u001b[43mrecv_into\u001b[49m\u001b[43m(\u001b[49m\u001b[43mb\u001b[49m\u001b[43m)\u001b[49m\n\u001b[0;32m    721\u001b[0m     \u001b[38;5;28;01mexcept\u001b[39;00m timeout:\n\u001b[0;32m    722\u001b[0m         \u001b[38;5;28mself\u001b[39m\u001b[38;5;241m.\u001b[39m_timeout_occurred \u001b[38;5;241m=\u001b[39m \u001b[38;5;28;01mTrue\u001b[39;00m\n",
      "File \u001b[1;32me:\\anaconda3\\envs\\wrf_plot\\Lib\\ssl.py:1251\u001b[0m, in \u001b[0;36mSSLSocket.recv_into\u001b[1;34m(self, buffer, nbytes, flags)\u001b[0m\n\u001b[0;32m   1247\u001b[0m     \u001b[38;5;28;01mif\u001b[39;00m flags \u001b[38;5;241m!=\u001b[39m \u001b[38;5;241m0\u001b[39m:\n\u001b[0;32m   1248\u001b[0m         \u001b[38;5;28;01mraise\u001b[39;00m \u001b[38;5;167;01mValueError\u001b[39;00m(\n\u001b[0;32m   1249\u001b[0m           \u001b[38;5;124m\"\u001b[39m\u001b[38;5;124mnon-zero flags not allowed in calls to recv_into() on \u001b[39m\u001b[38;5;132;01m%s\u001b[39;00m\u001b[38;5;124m\"\u001b[39m \u001b[38;5;241m%\u001b[39m\n\u001b[0;32m   1250\u001b[0m           \u001b[38;5;28mself\u001b[39m\u001b[38;5;241m.\u001b[39m\u001b[38;5;18m__class__\u001b[39m)\n\u001b[1;32m-> 1251\u001b[0m     \u001b[38;5;28;01mreturn\u001b[39;00m \u001b[38;5;28;43mself\u001b[39;49m\u001b[38;5;241;43m.\u001b[39;49m\u001b[43mread\u001b[49m\u001b[43m(\u001b[49m\u001b[43mnbytes\u001b[49m\u001b[43m,\u001b[49m\u001b[43m \u001b[49m\u001b[43mbuffer\u001b[49m\u001b[43m)\u001b[49m\n\u001b[0;32m   1252\u001b[0m \u001b[38;5;28;01melse\u001b[39;00m:\n\u001b[0;32m   1253\u001b[0m     \u001b[38;5;28;01mreturn\u001b[39;00m \u001b[38;5;28msuper\u001b[39m()\u001b[38;5;241m.\u001b[39mrecv_into(buffer, nbytes, flags)\n",
      "File \u001b[1;32me:\\anaconda3\\envs\\wrf_plot\\Lib\\ssl.py:1103\u001b[0m, in \u001b[0;36mSSLSocket.read\u001b[1;34m(self, len, buffer)\u001b[0m\n\u001b[0;32m   1101\u001b[0m \u001b[38;5;28;01mtry\u001b[39;00m:\n\u001b[0;32m   1102\u001b[0m     \u001b[38;5;28;01mif\u001b[39;00m buffer \u001b[38;5;129;01mis\u001b[39;00m \u001b[38;5;129;01mnot\u001b[39;00m \u001b[38;5;28;01mNone\u001b[39;00m:\n\u001b[1;32m-> 1103\u001b[0m         \u001b[38;5;28;01mreturn\u001b[39;00m \u001b[38;5;28;43mself\u001b[39;49m\u001b[38;5;241;43m.\u001b[39;49m\u001b[43m_sslobj\u001b[49m\u001b[38;5;241;43m.\u001b[39;49m\u001b[43mread\u001b[49m\u001b[43m(\u001b[49m\u001b[38;5;28;43mlen\u001b[39;49m\u001b[43m,\u001b[49m\u001b[43m \u001b[49m\u001b[43mbuffer\u001b[49m\u001b[43m)\u001b[49m\n\u001b[0;32m   1104\u001b[0m     \u001b[38;5;28;01melse\u001b[39;00m:\n\u001b[0;32m   1105\u001b[0m         \u001b[38;5;28;01mreturn\u001b[39;00m \u001b[38;5;28mself\u001b[39m\u001b[38;5;241m.\u001b[39m_sslobj\u001b[38;5;241m.\u001b[39mread(\u001b[38;5;28mlen\u001b[39m)\n",
      "\u001b[1;31mKeyboardInterrupt\u001b[0m: "
     ]
    }
   ],
   "source": [
    "step = list(range(3, 145, 3))\n",
    "\n",
    "client.retrieve(\n",
    "    time=0,\n",
    "    type=\"fc\",\n",
    "    stream='oper',step=step,\n",
    "    param=['d','gh',\"r\",\"vo\"],\n",
    "    levelist=[ 850, 500],\n",
    "    target=\"atms.grib2\",\n",
    ")"
   ]
  },
  {
   "cell_type": "code",
   "execution_count": 6,
   "id": "ba79e299",
   "metadata": {},
   "outputs": [
    {
     "name": "stderr",
     "output_type": "stream",
     "text": [
      "Ignoring index file 'atms.grib2.5b7b6.idx' older than GRIB file\n",
      "Ignoring index file 'atms.grib2.5b7b6.idx' older than GRIB file\n"
     ]
    }
   ],
   "source": [
    "ds_850=xr.open_dataset('atms.grib2',engine='cfgrib').sel(longitude=slice(60,100),latitude=slice(40,0),isobaricInhPa=850)\n",
    "ds_500=xr.open_dataset('atms.grib2',engine='cfgrib').sel(longitude=slice(60,100),latitude=slice(40,0),isobaricInhPa=500)\n"
   ]
  },
  {
   "cell_type": "code",
   "execution_count": 7,
   "id": "3b220754",
   "metadata": {},
   "outputs": [],
   "source": [
    "gh8=ds_850['gh']\n",
    "d8=ds_850['d']\n",
    "r8=ds_850['r']\n",
    "vo8=ds_850['vo']\n",
    "\n",
    "dict_l(gh8,\"gh850\")\n",
    "dict_l(d8*1e5,\"div850\")\n",
    "dict_l(r8,\"rh850\")\n",
    "dict_l(vo8*1e5,\"vo850\")\n",
    "\n",
    "\n",
    "\n",
    "\n",
    "gh5=ds_500['gh']\n",
    "d5=ds_500['d']\n",
    "r5=ds_500['r']\n",
    "vo5=ds_500['vo']\n",
    "\n",
    "dict_l(gh5,\"gh500\")\n",
    "dict_l(d5*1e5,\"div500\")\n",
    "dict_l(r5,\"rh500\")\n",
    "dict_l(vo5*1e5,\"vo500\")\n",
    "\n",
    "ds_850.close()\n",
    "ds_500.close()"
   ]
  },
  {
   "cell_type": "code",
   "execution_count": 8,
   "id": "13d01829",
   "metadata": {},
   "outputs": [
    {
     "data": {
      "application/vnd.jupyter.widget-view+json": {
       "model_id": "2b8f43f96a114238af807a7fa38e557c",
       "version_major": 2,
       "version_minor": 0
      },
      "text/plain": [
       "<multiple>:   0%|          | 0.00/78.2M [00:00<?, ?B/s]"
      ]
     },
     "metadata": {},
     "output_type": "display_data"
    },
    {
     "data": {
      "text/plain": [
       "<ecmwf.opendata.client.Result at 0x1832d619310>"
      ]
     },
     "execution_count": 8,
     "metadata": {},
     "output_type": "execute_result"
    }
   ],
   "source": [
    "step = list(range(3, 91, 3))\n",
    "\n",
    "\n",
    "client.retrieve(\n",
    "    time=0,\n",
    "    type=\"fc\",\n",
    "    stream='oper',step=step,\n",
    "    param=['tp','tcwv',\"msl\",\"2t\"],\n",
    "    target=\"atms.grib2\",\n",
    ")\n",
    "\n",
    "\n"
   ]
  },
  {
   "cell_type": "code",
   "execution_count": 10,
   "id": "2e1216be-6e81-4adb-b071-eca01b558cc4",
   "metadata": {
    "execution": {
     "iopub.execute_input": "2024-11-12T07:40:57.771959Z",
     "iopub.status.busy": "2024-11-12T07:40:57.771959Z",
     "iopub.status.idle": "2024-11-12T07:40:59.452275Z",
     "shell.execute_reply": "2024-11-12T07:40:59.451756Z",
     "shell.execute_reply.started": "2024-11-12T07:40:57.771959Z"
    }
   },
   "outputs": [
    {
     "name": "stderr",
     "output_type": "stream",
     "text": [
      "Ignoring index file 'atms.grib2.52121.idx' older than GRIB file\n",
      "Ignoring index file 'atms.grib2.5b7b6.idx' older than GRIB file\n"
     ]
    }
   ],
   "source": [
    "# import cfgrib\n",
    "t2 = xr.open_dataset('atms.grib2',engine='cfgrib',decode_coords=\"all\",\n",
    "                     backend_kwargs={ 'filter_by_keys':{ 'cfVarName': 't2m',}})['t2m']\n",
    "ds=xr.open_dataset('atms.grib2',engine='cfgrib')\n",
    "# ds1=ds.sel(longitude=slice(60,100),latitude=slice(40,0))\n",
    "rf = ds.sel(longitude=slice(60,100),latitude=slice(40,0))['tp'][:, :, :]  # Select a specific time slice\n",
    "p =ds.sel(longitude=slice(60,100),latitude=slice(40,0))['msl'][:, :, :]/100  # Select a specific time slice\n",
    "tcw=ds.sel(longitude=slice(60,100),latitude=slice(40,0))['tcwv']\n",
    "# u10=xr.open_dataset('atms.grib2',engine='cfgrib',backend_kwargs={ 'filter_by_keys':{ 'cfVarName': 'u10',}}).sel(longitude=slice(60,100),latitude=slice(40,0))['u10']\n",
    "# v10=xr.open_dataset('atms.grib2',engine='cfgrib',backend_kwargs={ 'filter_by_keys':{ 'cfVarName': 'v10',}}).sel(longitude=slice(60,100),latitude=slice(40,0))['v10']\n",
    "\n",
    "# w10=(u10**2+v10**2)**0.5\n",
    "# from metpy.units import units\n",
    "rf2=rf* units('m').to(units.mm)\n",
    "rf1=rf2.diff(dim='step').dropna(dim='step')"
   ]
  },
  {
   "cell_type": "code",
   "execution_count": 11,
   "id": "236af576",
   "metadata": {},
   "outputs": [],
   "source": [
    "\n",
    "def dict_l(data,fm):\n",
    "  data_dict=data.sel(longitude=slice(60, 100), latitude=slice(38, 0)).squeeze().to_dict(data='list', encoding=False)\n",
    "  def convert_types(obj):\n",
    "    if isinstance(obj, (np.datetime64, pd.Timestamp, datetime)):\n",
    "        return obj.isoformat()  # Convert datetime objects to ISO format\n",
    "    elif isinstance(obj, timedelta):\n",
    "        return obj.total_seconds()  # Convert timedelta to total seconds\n",
    "    elif isinstance(obj, np.ndarray):\n",
    "        return obj.tolist()  # Convert numpy arrays to lists\n",
    "    elif isinstance(obj, (np.float32, np.float64)):\n",
    "        return float(obj)  # Convert numpy floats to native floats\n",
    "    elif isinstance(obj, (np.int32, np.int64)):\n",
    "        return int(obj)  # Convert numpy integers to native ints\n",
    "    raise TypeError(f\"Type {type(obj)} not serializable\")\n",
    "\n",
    "  file=f\"{fm}.json\"\n",
    "  # Save the dictionary as a JSON file with the extended convert_types function\n",
    "  with open(file, 'w') as json_file:\n",
    "      json.dump(data_dict, json_file, indent=4, default=convert_types)"
   ]
  },
  {
   "cell_type": "code",
   "execution_count": null,
   "id": "865dbf11",
   "metadata": {},
   "outputs": [],
   "source": [
    "\n",
    "\n",
    "# def dict_c(data, fm, gdf):\n",
    "#     \"\"\"\n",
    "#     Clips the xarray DataArray to a specific region, converts it to a dictionary, and saves it as a JSON file.\n",
    "    \n",
    "#     Parameters:\n",
    "#     data (xarray.DataArray): The raster data to be clipped and converted to a dictionary.\n",
    "#     fm (str): The filename (without extension) to save the JSON file.\n",
    "#     gdf (geopandas.GeoDataFrame): The GeoDataFrame containing the shapefile for clipping.\n",
    "    \n",
    "#     Returns:\n",
    "#     None\n",
    "#     \"\"\"\n",
    "#     # Clip the data using the given GeoDataFrame (gdf)\n",
    "#     data = data.rio.write_crs(\"EPSG:4326\", inplace=True)  # Ensure CRS is correct\n",
    "#     if data.rio.crs != gdf.crs:\n",
    "#         gdf = gdf.to_crs(data.rio.crs)\n",
    "    \n",
    "#     clipped_data = data.rio.clip(gdf.geometry, gdf.crs, drop=True).squeeze()\n",
    "    \n",
    "#     # Convert the clipped data to a dictionary\n",
    "#     data_dict = clipped_data.fillna(0).to_dict(data='list', encoding=False)\n",
    "    \n",
    "\n",
    "#     # Function to handle non-serializable types\n",
    "#     def convert_types(obj):\n",
    "#         if isinstance(obj, (np.datetime64, pd.Timestamp, datetime)):\n",
    "#             return obj.isoformat()  # Convert datetime objects to ISO format\n",
    "#         elif isinstance(obj, timedelta):\n",
    "#             return obj.total_seconds()  # Convert timedelta to total seconds\n",
    "#         elif isinstance(obj, np.ndarray):\n",
    "#             return obj.tolist()  # Convert numpy arrays to lists\n",
    "#         elif isinstance(obj, (np.float32, np.float64)):\n",
    "#             return float(obj)  # Convert numpy floats to native floats\n",
    "#         elif isinstance(obj, (np.int32, np.int64)):\n",
    "#             return int(obj)  # Convert numpy integers to native ints\n",
    "#         raise TypeError(f\"Type {type(obj)} not serializable\")\n",
    "    \n",
    "#     # Save the dictionary as a JSON file\n",
    "#     file = f\"{fm}_contour.json\"\n",
    "#     with open(file, 'w') as json_file:\n",
    "#         json.dump(data_dict, json_file, indent=4, default=convert_types)\n",
    "\n",
    "#     print(f\"Data successfully saved as {file}\")\n",
    "\n"
   ]
  },
  {
   "cell_type": "code",
   "execution_count": 12,
   "id": "62e43707",
   "metadata": {},
   "outputs": [],
   "source": [
    "dict_l(t2,\"2m_temp\")\n",
    "dict_l(rf1,\"rf\")\n",
    "dict_l(p,\"msl\")\n",
    "dict_l(tcw,\"tcwv\")\n",
    "# dict(w10,\"w10\")\n",
    "# dict(tcw,\"tcwv\")\n"
   ]
  },
  {
   "cell_type": "code",
   "execution_count": null,
   "id": "468ae95c",
   "metadata": {},
   "outputs": [],
   "source": [
    "# dict_c(t2,\"2m_temp\",gdf)\n",
    "# dict_c(rf1,\"rf\",gdf)\n",
    "# dict_c(p,\"msl\",gdf)\n",
    "# dict_c(tcw,\"tcwv\",gdf)\n",
    "\n",
    "\n",
    "# cropped=t2.rio.write_crs(\"EPSG:4326\", inplace=True).rio.clip(gdf.geometry, gdf.crs, drop=True)\n",
    "# dfff=optomise_dataframe(cropped[0])\n",
    "\n",
    "# fig, ax = plt.subplots(figsize=(10, 6))\n",
    "\n",
    "# # If you're mapping directly from the grid:\n",
    "# cropped[16].plot(\n",
    "#     ax=ax,\n",
    "#     x='longitude',\n",
    "#     y='latitude',\n",
    "#     cmap='viridis',  # Choose a color map\n",
    "#     add_colorbar=True,\n",
    "#     robust=True,  # Removes extreme outliers\n",
    "# )\n",
    "# gdf.boundary.plot(ax=ax, color=\"black\", linewidth=0.5)\n",
    "# import plotly.express as px\n",
    "\n",
    "# df = px.data.gapminder().query(\"year==2007\")\n",
    "# fig = px.choropleth(df, locations=\"iso_alpha\",\n",
    "#                     color=\"lifeExp\", # lifeExp is a column of gapminder\n",
    "#                     hover_name=\"country\", # column to add to hover information\n",
    "#                     color_continuous_scale=px.colors.sequential.Plasma)\n",
    "# fig.show()\n",
    "\n",
    "# xr.open_dataset('atms.grib2',engine='cfgrib',backend_kwargs={ 'filter_by_keys':{ 'cfVarName': 'u10',}}).sel(longitude=slice(60,100),latitude=slice(40,0))['u10']\n",
    "\n",
    "\n",
    "# # Assuming `ds` is your xarray dataset\n",
    "# data_dict = ds['tp'].sel(longitude=slice(60, 100), latitude=slice(38, 0)).squeeze().to_dict(data='list', encoding=False)\n",
    "# # data_dict['tcw'] = ds['tcwv'].sel(longitude=slice(60, 100), latitude=slice(38, 0)).squeeze()\n",
    "# # Extended function to handle all types of non-serializable data\n",
    "# def convert_types(obj):\n",
    "#     if isinstance(obj, (np.datetime64, pd.Timestamp, datetime)):\n",
    "#         return obj.isoformat()  # Convert datetime objects to ISO format\n",
    "#     elif isinstance(obj, timedelta):\n",
    "#         return obj.total_seconds()  # Convert timedelta to total seconds\n",
    "#     elif isinstance(obj, np.ndarray):\n",
    "#         return obj.tolist()  # Convert numpy arrays to lists\n",
    "#     elif isinstance(obj, (np.float32, np.float64)):\n",
    "#         return float(obj)  # Convert numpy floats to native floats\n",
    "#     elif isinstance(obj, (np.int32, np.int64)):\n",
    "#         return int(obj)  # Convert numpy integers to native ints\n",
    "#     raise TypeError(f\"Type {type(obj)} not serializable\")\n",
    "\n",
    "# # Save the dictionary as a JSON file with the extended convert_types function\n",
    "# with open('rf.json', 'w') as json_file:\n",
    "#     json.dump(data_dict, json_file, indent=4, default=convert_types)\n",
    "\n",
    "\n",
    "\n",
    "# fig = plt.figure(figsize=(12,12)) # Define the figure and specify size\n",
    "# ax = plt.subplot(1,1,1, projection=ccrs.PlateCarree()) # Specify plot area & projection\n",
    "# gl = ax.gridlines(draw_labels=True,linewidth=.6, color='gray', alpha=0.5, linestyle='-.')\n",
    "# gl.xlabel_style = {\"size\" : 6}\n",
    "# gl.top_labels = False\n",
    "# gl.right_labels = False\n",
    "# gl.ylabel_style = {\"size\" : 6}\n",
    "# va=rf[11,:,:]\n",
    "# # ax.set_title(f'AOD at 550nm, {str(da.forecast_reference_time[0].values)[:-16]}', fontsize=12) # Set figure title\n",
    "# ax.coastlines(color='black') # Add coastlines\n",
    "# im = plt.pcolormesh(va.longitude, va.latitude, va, cmap=cmaps.precip2_17lev\t, ) # Plot the data\n",
    "# # plt.contour(da.longitude, da.latitude, va ) # Plot the data\n",
    "# im.axes.add_feature(od)\n",
    "\n",
    "# lab=f'Total precipitation of at least 25 mm (%)'\n",
    "# cbar = plt.colorbar(im,fraction=0.021,shrink=0.85, pad=0.12,extend='min') # Specify the colourbar\n",
    "# # cbar.set_label(label='pressure(hPa)', size='large', weight='bold')\n",
    "# # plt.plot(mm[:8], nn[:8], color='m', linewidth=2, transform=ccrs.PlateCarree())  # Line connecting points\n",
    "# ax.set_xlim(60,100)\n",
    "# ax.set_ylim(6,38)\n",
    "\n",
    "# # plt.title(f\"Total precipitation of at least 25 mm (%) ,{va.valid_time.dt.strftime('%d-%B-%Y %H:%M').values}\")\n",
    "# ax.text(1.1, -0.012, '@Subhrajit', transform=ax.transAxes, fontsize=12,\n",
    "#             verticalalignment='bottom', bbox=dict(facecolor='white', alpha=0.8),weight='bold')\n",
    "# # time=va.valid_time.dt.strftime('%d_%B_%Y_%H').values\n",
    "# plt.grid(True)\n",
    "# # plt.scatter(x=mm[:8], y=nn[:8],\n",
    "# #             color=\"m\",\n",
    "# #             s=10,\n",
    "# #             alpha=1,\n",
    "# #             transform=ccrs.PlateCarree())\n",
    "\n",
    "# # for i, (lon, lat) in enumerate(zip(mm[:10], nn[:10]),):\n",
    "# #     plt.text(lon+1, lat, f'({lon}, {lat})', fontsize=12, ha='right', color='g',transform=ccrs.PlateCarree())\n",
    "    \n",
    "# # Show the plot with a frame\n",
    "# plt.gca().spines['top'].set_visible(True)\n",
    "# plt.gca().spines['right'].set_visible(True)\n",
    "# plt.gca().spines['left'].set_visible(True)\n",
    "# plt.gca().spines['bottom'].set_visible(True)\n",
    "\n",
    "# plt.tight_layout()\n",
    "\n",
    "\n",
    "\n",
    "\n",
    "# # cbar.set_label(lab) # Define the colourbar label\n",
    "# def animate(i):\n",
    "#     array = rf[i,:,:].values\n",
    "#     # array1 = p[i,:,:].values\n",
    "#     im.set_array(array1.flatten())\n",
    "#     # ax.set_title(f'AOD at 550nm')#, {str(da.forecast_reference_time[i].values)[:-16]}', fontsize=12)\n",
    "#     ax.set_title(f\"{p.valid_time[i].dt.strftime('%d-%B-%Y %H:%M').values}\",fontsize=12,weight='bold')\n",
    "\n",
    "\n",
    "# frames =16\n",
    "# ani = animation.FuncAnimation(fig, animate, frames, interval=150)\n",
    "# # ani.save('pressure.gif',fps = 90)\n",
    "# HTML(ani.to_jshtml())"
   ]
  }
 ],
 "metadata": {
  "kernelspec": {
   "display_name": "wrf_plot",
   "language": "python",
   "name": "python3"
  },
  "language_info": {
   "codemirror_mode": {
    "name": "ipython",
    "version": 3
   },
   "file_extension": ".py",
   "mimetype": "text/x-python",
   "name": "python",
   "nbconvert_exporter": "python",
   "pygments_lexer": "ipython3",
   "version": "3.12.8"
  }
 },
 "nbformat": 4,
 "nbformat_minor": 5
}
