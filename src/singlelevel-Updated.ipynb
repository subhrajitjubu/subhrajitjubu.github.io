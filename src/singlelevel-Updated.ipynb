{
 "cells": [
  {
   "cell_type": "code",
   "execution_count": null,
   "id": "c5b76488-4c5f-4eb1-a175-c32e14e94f93",
   "metadata": {
    "execution": {
     "iopub.execute_input": "2024-11-12T07:37:31.203749Z",
     "iopub.status.busy": "2024-11-12T07:37:31.203749Z",
     "iopub.status.idle": "2024-11-12T07:37:34.303469Z",
     "shell.execute_reply": "2024-11-12T07:37:34.303469Z",
     "shell.execute_reply.started": "2024-11-12T07:37:31.203749Z"
    }
   },
   "outputs": [],
   "source": [
    "!pip install geopandas metpy xarray[complete] -q\n",
    "!pip install eccodes cfgrib rioxarray ecmwf.opendata "
   ]
  },
  {
   "cell_type": "code",
   "execution_count": null,
   "id": "94385330-0b94-458c-8208-d83f44687557",
   "metadata": {
    "execution": {
     "iopub.execute_input": "2024-11-12T07:40:52.720157Z",
     "iopub.status.busy": "2024-11-12T07:40:52.720157Z",
     "iopub.status.idle": "2024-11-12T07:40:54.619552Z",
     "shell.execute_reply": "2024-11-12T07:40:54.618550Z",
     "shell.execute_reply.started": "2024-11-12T07:40:52.720157Z"
    }
   },
   "outputs": [],
   "source": [
    "import xarray as xr\n",
    "import cfgrib\n",
    "import os \n",
    "from ecmwf.opendata import Client\n",
    "#import colormaps as cmaps \n",
    "import numpy as np\n",
    "# Disable warnings for data download via API\n",
    "import urllib3\n",
    "urllib3.disable_warnings()\n",
    "client = Client(source=\"ecmwf\")\n",
    "\n",
    "import metpy.calc as mpcalc\n",
    "from metpy.units import units\n",
    "import json\n",
    "import pandas as pd\n",
    "from datetime import datetime, timedelta\n",
    "import xarray as xr\n",
    "import cfgrib\n",
    "\n",
    "import json\n",
    "import zipfile\n",
    "import os\n",
    "from os import walk\n",
    "\n",
    "import logging\n"
   ]
  },
  {
   "cell_type": "code",
   "execution_count": null,
   "id": "5ce4499b",
   "metadata": {},
   "outputs": [],
   "source": [
    "\n",
    "def dict_l(data, fm):\n",
    "    try:\n",
    "        # Validate filename\n",
    "       \n",
    "        \n",
    "        # Convert data to dictionary\n",
    "        logging.info(\"Converting data to dictionary...\")\n",
    "        data_dict = data.squeeze().to_dict(data='list', encoding=False)\n",
    "        \n",
    "        # Helper function to recursively round numeric values\n",
    "        def round_numbers(obj):\n",
    "            if isinstance(obj, dict):\n",
    "                return {k: round_numbers(v) for k, v in obj.items()}\n",
    "            elif isinstance(obj, list):\n",
    "                return [round_numbers(item) for item in obj]\n",
    "            elif isinstance(obj, (float, np.float32, np.float64)):\n",
    "                return round(float(obj), 2)  # Round floats to 2 decimal places\n",
    "            elif isinstance(obj, (int, np.int32, np.int64)):\n",
    "                return int(obj)  # Keep integers as-is\n",
    "            else:\n",
    "                return obj  # Leave other types unchanged\n",
    "        \n",
    "        # Apply rounding to the dictionary\n",
    "        logging.info(\"Rounding numeric values to 2 decimal places...\")\n",
    "        rounded_data_dict = round_numbers(data_dict)\n",
    "        \n",
    "        # Helper function to handle non-serializable types\n",
    "        def convert_types(obj):\n",
    "            if isinstance(obj, dict):\n",
    "                return {k: convert_types(v) for k, v in obj.items()}\n",
    "            elif isinstance(obj, list):\n",
    "                return [convert_types(item) for item in obj]\n",
    "            elif isinstance(obj, (np.datetime64, pd.Timestamp, datetime)):\n",
    "                return obj.isoformat()\n",
    "            elif isinstance(obj, timedelta):\n",
    "                return obj.total_seconds()\n",
    "            elif isinstance(obj, np.ndarray):\n",
    "                return obj.tolist()\n",
    "            elif isinstance(obj, (np.float32, np.float64)):\n",
    "                return float(obj)\n",
    "            elif isinstance(obj, (np.int32, np.int64)):\n",
    "                return int(obj)\n",
    "            raise TypeError(f\"Type {type(obj)} not serializable\")\n",
    "        \n",
    "        # Save to JSON file\n",
    "        file = os.path.join(os.getcwd(), f\"{fm}.json\")\n",
    "        logging.info(f\"Saving data to {file}...\")\n",
    "        with open(file, 'w') as json_file:\n",
    "            json.dump(rounded_data_dict, json_file, indent=4, default=convert_types)\n",
    "        \n",
    "        logging.info(\"Data successfully saved.\")\n",
    "    \n",
    "    except Exception as e:\n",
    "        logging.error(f\"An error occurred: {e}\")\n",
    "        raise"
   ]
  },
  {
   "cell_type": "code",
   "execution_count": null,
   "id": "8a584e22-bddb-4933-8025-5617e7345164",
   "metadata": {
    "execution": {
     "iopub.execute_input": "2024-11-12T05:46:34.688071Z",
     "iopub.status.busy": "2024-11-12T05:46:34.688071Z",
     "iopub.status.idle": "2024-11-12T05:46:34.702078Z",
     "shell.execute_reply": "2024-11-12T05:46:34.702078Z",
     "shell.execute_reply.started": "2024-11-12T05:46:34.688071Z"
    }
   },
   "outputs": [],
   "source": [
    "# HRES:\n",
    "\n",
    "# fc: Forecast.\n",
    "# ENS:\n",
    "\n",
    "# cf: Control forecast.\n",
    "# pf: Perturbed forecast.\n",
    "# em: Ensemble mean.\n",
    "# es: Ensemble standard deviation.\n",
    "# ep: Probabilities.\n",
    "# Valid values for stream are:\n",
    "\n",
    "# oper: Atmospheric fields from HRES - 00 UTC and 12 UTC.\n",
    "# wave: Ocean wave fields from HRES - 00 UTC and 12 UTC.\n",
    "# enfo: Atmospheric fields from ENS.\n",
    "# waef: Ocean wave fields from ENS.\n",
    "# scda: Atmospheric fields from HRES - 06 UTC and 18 UTC.\n",
    "# scwv: Ocean wave fields from HRES - 06 UTC and 18 UTC."
   ]
  },
  {
   "cell_type": "code",
   "execution_count": null,
   "id": "3713acec-6cfe-4226-86ec-73af21d3ce5e",
   "metadata": {
    "execution": {
     "iopub.execute_input": "2024-11-12T07:41:30.920400Z",
     "iopub.status.busy": "2024-11-12T07:41:30.919391Z",
     "iopub.status.idle": "2024-11-12T07:43:00.829980Z",
     "shell.execute_reply": "2024-11-12T07:43:00.829980Z",
     "shell.execute_reply.started": "2024-11-12T07:41:30.920400Z"
    }
   },
   "outputs": [],
   "source": [
    "step = list(range(3, 73, 3))\n",
    "\n",
    "\n",
    "client.retrieve(\n",
    "    time=18,\n",
    "    type=\"fc\",\n",
    "    stream='scda',step=step,\n",
    "    param=['tp','tcwv',\"msl\",\"2t\",'10u',\"10v\"],\n",
    "    target=\"atms.grib2\",\n",
    ")\n",
    "\n",
    "\n"
   ]
  },
  {
   "cell_type": "code",
   "execution_count": null,
   "id": "2e1216be-6e81-4adb-b071-eca01b558cc4",
   "metadata": {
    "execution": {
     "iopub.execute_input": "2024-11-12T07:40:57.771959Z",
     "iopub.status.busy": "2024-11-12T07:40:57.771959Z",
     "iopub.status.idle": "2024-11-12T07:40:59.452275Z",
     "shell.execute_reply": "2024-11-12T07:40:59.451756Z",
     "shell.execute_reply.started": "2024-11-12T07:40:57.771959Z"
    }
   },
   "outputs": [],
   "source": [
    "# import cfgrib\n",
    "t2 = xr.open_dataset('atms.grib2',engine='cfgrib',decode_coords=\"all\",\n",
    "                     backend_kwargs={ 'filter_by_keys':{ 'cfVarName': 't2m',}}).sel(longitude=slice(60,100),latitude=slice(40,0))['t2m']\n",
    "ds=xr.open_dataset('atms.grib2',engine='cfgrib')\n",
    "rf = ds.sel(longitude=slice(60,100),latitude=slice(40,0))['tp'][:, :, :]  # Select a specific time slice\n",
    "p =ds.sel(longitude=slice(60,100),latitude=slice(40,0))['msl'][:, :, :]/100  # Select a specific time slice\n",
    "tcw=ds.sel(longitude=slice(60,100),latitude=slice(40,0))['tcwv']\n",
    "\n",
    "rf2=rf* units('m').to(units.mm)\n"
   ]
  },
  {
   "cell_type": "code",
   "execution_count": null,
   "id": "62e43707",
   "metadata": {},
   "outputs": [],
   "source": [
    "dict_l(t2,\"2m_temp\")\n",
    "dict_l(rf2,\"rf\")\n",
    "dict_l(p,\"msl\")\n",
    "dict_l(tcw,\"tcwv\")\n",
    "# dict(w10,\"w10\")\n",
    "# dict(tcw,\"tcwv\")\n"
   ]
  }
 ],
 "metadata": {
  "kernelspec": {
   "display_name": "wrf_plot",
   "language": "python",
   "name": "python3"
  },
  "language_info": {
   "codemirror_mode": {
    "name": "ipython",
    "version": 3
   },
   "file_extension": ".py",
   "mimetype": "text/x-python",
   "name": "python",
   "nbconvert_exporter": "python",
   "pygments_lexer": "ipython3",
   "version": "3.10.14"
  }
 },
 "nbformat": 4,
 "nbformat_minor": 5
}
