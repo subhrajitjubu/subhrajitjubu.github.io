{
 "cells": [
  {
   "cell_type": "code",
   "execution_count": null,
   "id": "c5b76488-4c5f-4eb1-a175-c32e14e94f93",
   "metadata": {
    "execution": {
     "iopub.execute_input": "2024-11-12T07:37:31.203749Z",
     "iopub.status.busy": "2024-11-12T07:37:31.203749Z",
     "iopub.status.idle": "2024-11-12T07:37:34.303469Z",
     "shell.execute_reply": "2024-11-12T07:37:34.303469Z",
     "shell.execute_reply.started": "2024-11-12T07:37:31.203749Z"
    }
   },
   "outputs": [],
   "source": [
    "# !pip install geopandas metpy xarray[complete] -q\n",
    "# !pip install eccodes cfgrib rioxarray ecmwf.opendata "
   ]
  },
  {
   "cell_type": "code",
   "execution_count": null,
   "id": "94385330-0b94-458c-8208-d83f44687557",
   "metadata": {
    "execution": {
     "iopub.execute_input": "2024-11-12T07:40:52.720157Z",
     "iopub.status.busy": "2024-11-12T07:40:52.720157Z",
     "iopub.status.idle": "2024-11-12T07:40:54.619552Z",
     "shell.execute_reply": "2024-11-12T07:40:54.618550Z",
     "shell.execute_reply.started": "2024-11-12T07:40:52.720157Z"
    }
   },
   "outputs": [],
   "source": [
    "import xarray as xr\n",
    "import cfgrib\n",
    "\n",
    "# import cartopy.crs as ccrs\n",
    "# import matplotlib.pyplot as plt\n",
    "# from cartopy.io.shapereader import Reader\n",
    "# import cartopy.io.shapereader as shpreader\n",
    "\n",
    "# from cartopy.feature import ShapelyFeature\n",
    "# import cartopy.feature as cf\n",
    "import os \n",
    "from ecmwf.opendata import Client\n",
    "# plt.style.available\n",
    "#import colormaps as cmaps \n",
    "import concurrent\n",
    "import numpy as np\n",
    "\n",
    "# import cartopy.crs as crs\n",
    "# import cartopy.feature as cfeature\n",
    "# import geopandas as gpd\n",
    "\n",
    "\n",
    "import numpy as np\n",
    "\n",
    "# Libraries to assist with animation and visualisations\n",
    "%matplotlib inline\n",
    "import matplotlib.pyplot as plt\n",
    "from matplotlib import animation\n",
    "from IPython.display import HTML\n",
    "\n",
    "# Disable warnings for data download via API\n",
    "import urllib3\n",
    "urllib3.disable_warnings()\n",
    "client = Client(source=\"ecmwf\")\n",
    "\n",
    "import metpy.calc as mpcalc\n",
    "from metpy.units import units\n",
    "\n",
    "import json\n",
    "import pandas as pd\n",
    "from datetime import datetime, timedelta\n",
    "\n",
    "import rioxarray\n",
    "\n",
    "import xarray as xr\n",
    "import cfgrib\n",
    "# import eccodes\n",
    "# import geopandas as gpd\n",
    "# from shapely.geometry import Point\n",
    "import json\n",
    "import zipfile\n",
    "import os\n",
    "from os import walk\n",
    "\n",
    "\n",
    "\n",
    "#file='dist.shp'\n",
    "#gdf = gpd.read_file(file)\n",
    "#gdf = gdf.to_crs(\"EPSG:4326\")\n",
    "#geometry_column = gdf['geometry']\n",
    "\n",
    "# out=\"dist.shp\"\n",
    "# gdf.geometry[:].to_file(out)\n",
    "# gdf.to_file(\"dist.geojson\", driver='GeoJSON')\n",
    "\n",
    "# od=ShapelyFeature(Reader('IND.shp').geometries(), ccrs.PlateCarree(),\n",
    "#                                 linewidth = 1,facecolor='none', edgecolor=[0,0,0], alpha=0.7, )"
   ]
  },
  {
   "cell_type": "code",
   "execution_count": 2,
   "id": "8a584e22-bddb-4933-8025-5617e7345164",
   "metadata": {
    "execution": {
     "iopub.execute_input": "2024-11-12T05:46:34.688071Z",
     "iopub.status.busy": "2024-11-12T05:46:34.688071Z",
     "iopub.status.idle": "2024-11-12T05:46:34.702078Z",
     "shell.execute_reply": "2024-11-12T05:46:34.702078Z",
     "shell.execute_reply.started": "2024-11-12T05:46:34.688071Z"
    }
   },
   "outputs": [],
   "source": [
    "# HRES:\n",
    "\n",
    "# fc: Forecast.\n",
    "# ENS:\n",
    "\n",
    "# cf: Control forecast.\n",
    "# pf: Perturbed forecast.\n",
    "# em: Ensemble mean.\n",
    "# es: Ensemble standard deviation.\n",
    "# ep: Probabilities.\n",
    "# Valid values for stream are:\n",
    "\n",
    "# oper: Atmospheric fields from HRES - 00 UTC and 12 UTC.\n",
    "# wave: Ocean wave fields from HRES - 00 UTC and 12 UTC.\n",
    "# enfo: Atmospheric fields from ENS.\n",
    "# waef: Ocean wave fields from ENS.\n",
    "# scda: Atmospheric fields from HRES - 06 UTC and 18 UTC.\n",
    "# scwv: Ocean wave fields from HRES - 06 UTC and 18 UTC."
   ]
  },
  {
   "cell_type": "code",
   "execution_count": null,
   "id": "3713acec-6cfe-4226-86ec-73af21d3ce5e",
   "metadata": {
    "execution": {
     "iopub.execute_input": "2024-11-12T07:41:30.920400Z",
     "iopub.status.busy": "2024-11-12T07:41:30.919391Z",
     "iopub.status.idle": "2024-11-12T07:43:00.829980Z",
     "shell.execute_reply": "2024-11-12T07:43:00.829980Z",
     "shell.execute_reply.started": "2024-11-12T07:41:30.920400Z"
    }
   },
   "outputs": [
    {
     "data": {
      "application/vnd.jupyter.widget-view+json": {
       "model_id": "6179be95d86c48d0b5a29982aeb35ad7",
       "version_major": 2,
       "version_minor": 0
      },
      "text/plain": [
       "<multiple>:   0%|          | 0.00/127M [00:00<?, ?B/s]"
      ]
     },
     "metadata": {},
     "output_type": "display_data"
    },
    {
     "data": {
      "text/plain": [
       "<ecmwf.opendata.client.Result at 0x2aa8586b2e0>"
      ]
     },
     "execution_count": 2,
     "metadata": {},
     "output_type": "execute_result"
    }
   ],
   "source": [
    "step = list(range(3, 91, 3))\n",
    "\n",
    "\n",
    "client.retrieve( date=0,\n",
    "    time=12,\n",
    "    type=\"fc\",\n",
    "    stream='oper',step=step,\n",
    "    param=['tp','tcwv',\"msl\",\"2t\",'10u',\"10v\"],\n",
    "    target=\"atms.grib2\",\n",
    ")\n",
    "\n",
    "\n"
   ]
  },
  {
   "cell_type": "code",
   "execution_count": null,
   "id": "28e9cd52-b894-4977-a4d4-221b089e93dc",
   "metadata": {
    "execution": {
     "iopub.status.busy": "2024-11-12T05:36:44.358208Z",
     "iopub.status.idle": "2024-11-12T05:36:44.358208Z",
     "shell.execute_reply": "2024-11-12T05:36:44.358208Z",
     "shell.execute_reply.started": "2024-11-12T05:36:44.358208Z"
    }
   },
   "outputs": [
    {
     "data": {
      "application/vnd.jupyter.widget-view+json": {
       "model_id": "78fa117e10cc479f9e80f957219164fb",
       "version_major": 2,
       "version_minor": 0
      },
      "text/plain": [
       "<multiple>:   0%|          | 0.00/170M [00:00<?, ?B/s]"
      ]
     },
     "metadata": {},
     "output_type": "display_data"
    },
    {
     "data": {
      "text/plain": [
       "<ecmwf.opendata.client.Result at 0x1b494d2a0b0>"
      ]
     },
     "execution_count": 9,
     "metadata": {},
     "output_type": "execute_result"
    }
   ],
   "source": []
  },
  {
   "cell_type": "code",
   "execution_count": 3,
   "id": "2e1216be-6e81-4adb-b071-eca01b558cc4",
   "metadata": {
    "execution": {
     "iopub.execute_input": "2024-11-12T07:40:57.771959Z",
     "iopub.status.busy": "2024-11-12T07:40:57.771959Z",
     "iopub.status.idle": "2024-11-12T07:40:59.452275Z",
     "shell.execute_reply": "2024-11-12T07:40:59.451756Z",
     "shell.execute_reply.started": "2024-11-12T07:40:57.771959Z"
    }
   },
   "outputs": [
    {
     "name": "stderr",
     "output_type": "stream",
     "text": [
      "Ignoring index file 'atms.grib2.52121.idx' older than GRIB file\n",
      "Ignoring index file 'atms.grib2.5b7b6.idx' older than GRIB file\n",
      "skipping variable: paramId==167 shortName='t2m'\n",
      "Traceback (most recent call last):\n",
      "  File \"e:\\anaconda3\\envs\\wrf_plot\\lib\\site-packages\\cfgrib\\dataset.py\", line 721, in build_dataset_components\n",
      "    dict_merge(variables, coord_vars)\n",
      "  File \"e:\\anaconda3\\envs\\wrf_plot\\lib\\site-packages\\cfgrib\\dataset.py\", line 639, in dict_merge\n",
      "    raise DatasetBuildError(\n",
      "cfgrib.dataset.DatasetBuildError: key present and new value is different: key='heightAboveGround' value=Variable(dimensions=(), data=np.float64(10.0)) new_value=Variable(dimensions=(), data=np.float64(2.0))\n",
      "Ignoring index file 'atms.grib2.52121.idx' older than GRIB file\n",
      "Ignoring index file 'atms.grib2.52121.idx' older than GRIB file\n"
     ]
    }
   ],
   "source": [
    "# import cfgrib\n",
    "t2 = xr.open_dataset('atms.grib2',engine='cfgrib',decode_coords=\"all\",\n",
    "                     backend_kwargs={ 'filter_by_keys':{ 'cfVarName': 't2m',}})['t2m']\n",
    "ds=xr.open_dataset('atms.grib2',engine='cfgrib')\n",
    "# ds1=ds.sel(longitude=slice(60,100),latitude=slice(40,0))\n",
    "rf = ds.sel(longitude=slice(60,100),latitude=slice(40,0))['tp'][:, :, :]  # Select a specific time slice\n",
    "p =ds.sel(longitude=slice(60,100),latitude=slice(40,0))['msl'][:, :, :]/100  # Select a specific time slice\n",
    "tcw=ds.sel(longitude=slice(60,100),latitude=slice(40,0))['tcwv']\n",
    "u10=xr.open_dataset('atms.grib2',engine='cfgrib',backend_kwargs={ 'filter_by_keys':{ 'cfVarName': 'u10',}}).sel(longitude=slice(60,100),latitude=slice(40,0))['u10']\n",
    "v10=xr.open_dataset('atms.grib2',engine='cfgrib',backend_kwargs={ 'filter_by_keys':{ 'cfVarName': 'v10',}}).sel(longitude=slice(60,100),latitude=slice(40,0))['v10']\n",
    "\n",
    "w10=(u10**2+v10**2)**0.5\n",
    "from metpy.units import units\n",
    "rf1=rf* units('m').to(units.mm)"
   ]
  },
  {
   "cell_type": "code",
   "execution_count": 4,
   "id": "236af576",
   "metadata": {},
   "outputs": [],
   "source": [
    "\n",
    "def dict_l(data,fm):\n",
    "  data_dict=data.sel(longitude=slice(60, 100), latitude=slice(38, 0)).squeeze().to_dict(data='list', encoding=False)\n",
    "  def convert_types(obj):\n",
    "    if isinstance(obj, (np.datetime64, pd.Timestamp, datetime)):\n",
    "        return obj.isoformat()  # Convert datetime objects to ISO format\n",
    "    elif isinstance(obj, timedelta):\n",
    "        return obj.total_seconds()  # Convert timedelta to total seconds\n",
    "    elif isinstance(obj, np.ndarray):\n",
    "        return obj.tolist()  # Convert numpy arrays to lists\n",
    "    elif isinstance(obj, (np.float32, np.float64)):\n",
    "        return float(obj)  # Convert numpy floats to native floats\n",
    "    elif isinstance(obj, (np.int32, np.int64)):\n",
    "        return int(obj)  # Convert numpy integers to native ints\n",
    "    raise TypeError(f\"Type {type(obj)} not serializable\")\n",
    "\n",
    "  file=f\"{fm}.json\"\n",
    "  # Save the dictionary as a JSON file with the extended convert_types function\n",
    "  with open(file, 'w') as json_file:\n",
    "      json.dump(data_dict, json_file, indent=4, default=convert_types)"
   ]
  },
  {
   "cell_type": "code",
   "execution_count": null,
   "id": "865dbf11",
   "metadata": {},
   "outputs": [],
   "source": [
    "\n",
    "\n",
    "# def dict_c(data, fm, gdf):\n",
    "#     \"\"\"\n",
    "#     Clips the xarray DataArray to a specific region, converts it to a dictionary, and saves it as a JSON file.\n",
    "    \n",
    "#     Parameters:\n",
    "#     data (xarray.DataArray): The raster data to be clipped and converted to a dictionary.\n",
    "#     fm (str): The filename (without extension) to save the JSON file.\n",
    "#     gdf (geopandas.GeoDataFrame): The GeoDataFrame containing the shapefile for clipping.\n",
    "    \n",
    "#     Returns:\n",
    "#     None\n",
    "#     \"\"\"\n",
    "#     # Clip the data using the given GeoDataFrame (gdf)\n",
    "#     data = data.rio.write_crs(\"EPSG:4326\", inplace=True)  # Ensure CRS is correct\n",
    "#     if data.rio.crs != gdf.crs:\n",
    "#         gdf = gdf.to_crs(data.rio.crs)\n",
    "    \n",
    "#     clipped_data = data.rio.clip(gdf.geometry, gdf.crs, drop=True).squeeze()\n",
    "    \n",
    "#     # Convert the clipped data to a dictionary\n",
    "#     data_dict = clipped_data.fillna(0).to_dict(data='list', encoding=False)\n",
    "    \n",
    "\n",
    "#     # Function to handle non-serializable types\n",
    "#     def convert_types(obj):\n",
    "#         if isinstance(obj, (np.datetime64, pd.Timestamp, datetime)):\n",
    "#             return obj.isoformat()  # Convert datetime objects to ISO format\n",
    "#         elif isinstance(obj, timedelta):\n",
    "#             return obj.total_seconds()  # Convert timedelta to total seconds\n",
    "#         elif isinstance(obj, np.ndarray):\n",
    "#             return obj.tolist()  # Convert numpy arrays to lists\n",
    "#         elif isinstance(obj, (np.float32, np.float64)):\n",
    "#             return float(obj)  # Convert numpy floats to native floats\n",
    "#         elif isinstance(obj, (np.int32, np.int64)):\n",
    "#             return int(obj)  # Convert numpy integers to native ints\n",
    "#         raise TypeError(f\"Type {type(obj)} not serializable\")\n",
    "    \n",
    "#     # Save the dictionary as a JSON file\n",
    "#     file = f\"{fm}_contour.json\"\n",
    "#     with open(file, 'w') as json_file:\n",
    "#         json.dump(data_dict, json_file, indent=4, default=convert_types)\n",
    "\n",
    "#     print(f\"Data successfully saved as {file}\")\n",
    "\n"
   ]
  },
  {
   "cell_type": "code",
   "execution_count": 6,
   "id": "62e43707",
   "metadata": {},
   "outputs": [],
   "source": [
    "dict_l(t2,\"2m_temp\")\n",
    "dict_l(rf1,\"rf\")\n",
    "dict_l(p,\"msl\")\n",
    "dict_l(tcw,\"tcwv\")\n",
    "# dict(w10,\"w10\")\n",
    "# dict(tcw,\"tcwv\")\n"
   ]
  },
  {
   "cell_type": "code",
   "execution_count": null,
   "id": "468ae95c",
   "metadata": {},
   "outputs": [],
   "source": [
    "# dict_c(t2,\"2m_temp\",gdf)\n",
    "# dict_c(rf1,\"rf\",gdf)\n",
    "# dict_c(p,\"msl\",gdf)\n",
    "# dict_c(tcw,\"tcwv\",gdf)\n",
    "\n",
    "\n",
    "# cropped=t2.rio.write_crs(\"EPSG:4326\", inplace=True).rio.clip(gdf.geometry, gdf.crs, drop=True)\n",
    "# dfff=optomise_dataframe(cropped[0])\n",
    "\n",
    "# fig, ax = plt.subplots(figsize=(10, 6))\n",
    "\n",
    "# # If you're mapping directly from the grid:\n",
    "# cropped[16].plot(\n",
    "#     ax=ax,\n",
    "#     x='longitude',\n",
    "#     y='latitude',\n",
    "#     cmap='viridis',  # Choose a color map\n",
    "#     add_colorbar=True,\n",
    "#     robust=True,  # Removes extreme outliers\n",
    "# )\n",
    "# gdf.boundary.plot(ax=ax, color=\"black\", linewidth=0.5)\n",
    "# import plotly.express as px\n",
    "\n",
    "# df = px.data.gapminder().query(\"year==2007\")\n",
    "# fig = px.choropleth(df, locations=\"iso_alpha\",\n",
    "#                     color=\"lifeExp\", # lifeExp is a column of gapminder\n",
    "#                     hover_name=\"country\", # column to add to hover information\n",
    "#                     color_continuous_scale=px.colors.sequential.Plasma)\n",
    "# fig.show()\n",
    "\n",
    "# xr.open_dataset('atms.grib2',engine='cfgrib',backend_kwargs={ 'filter_by_keys':{ 'cfVarName': 'u10',}}).sel(longitude=slice(60,100),latitude=slice(40,0))['u10']\n",
    "\n",
    "\n",
    "# # Assuming `ds` is your xarray dataset\n",
    "# data_dict = ds['tp'].sel(longitude=slice(60, 100), latitude=slice(38, 0)).squeeze().to_dict(data='list', encoding=False)\n",
    "# # data_dict['tcw'] = ds['tcwv'].sel(longitude=slice(60, 100), latitude=slice(38, 0)).squeeze()\n",
    "# # Extended function to handle all types of non-serializable data\n",
    "# def convert_types(obj):\n",
    "#     if isinstance(obj, (np.datetime64, pd.Timestamp, datetime)):\n",
    "#         return obj.isoformat()  # Convert datetime objects to ISO format\n",
    "#     elif isinstance(obj, timedelta):\n",
    "#         return obj.total_seconds()  # Convert timedelta to total seconds\n",
    "#     elif isinstance(obj, np.ndarray):\n",
    "#         return obj.tolist()  # Convert numpy arrays to lists\n",
    "#     elif isinstance(obj, (np.float32, np.float64)):\n",
    "#         return float(obj)  # Convert numpy floats to native floats\n",
    "#     elif isinstance(obj, (np.int32, np.int64)):\n",
    "#         return int(obj)  # Convert numpy integers to native ints\n",
    "#     raise TypeError(f\"Type {type(obj)} not serializable\")\n",
    "\n",
    "# # Save the dictionary as a JSON file with the extended convert_types function\n",
    "# with open('rf.json', 'w') as json_file:\n",
    "#     json.dump(data_dict, json_file, indent=4, default=convert_types)\n",
    "\n",
    "\n",
    "\n",
    "# fig = plt.figure(figsize=(12,12)) # Define the figure and specify size\n",
    "# ax = plt.subplot(1,1,1, projection=ccrs.PlateCarree()) # Specify plot area & projection\n",
    "# gl = ax.gridlines(draw_labels=True,linewidth=.6, color='gray', alpha=0.5, linestyle='-.')\n",
    "# gl.xlabel_style = {\"size\" : 6}\n",
    "# gl.top_labels = False\n",
    "# gl.right_labels = False\n",
    "# gl.ylabel_style = {\"size\" : 6}\n",
    "# va=rf[11,:,:]\n",
    "# # ax.set_title(f'AOD at 550nm, {str(da.forecast_reference_time[0].values)[:-16]}', fontsize=12) # Set figure title\n",
    "# ax.coastlines(color='black') # Add coastlines\n",
    "# im = plt.pcolormesh(va.longitude, va.latitude, va, cmap=cmaps.precip2_17lev\t, ) # Plot the data\n",
    "# # plt.contour(da.longitude, da.latitude, va ) # Plot the data\n",
    "# im.axes.add_feature(od)\n",
    "\n",
    "# lab=f'Total precipitation of at least 25 mm (%)'\n",
    "# cbar = plt.colorbar(im,fraction=0.021,shrink=0.85, pad=0.12,extend='min') # Specify the colourbar\n",
    "# # cbar.set_label(label='pressure(hPa)', size='large', weight='bold')\n",
    "# # plt.plot(mm[:8], nn[:8], color='m', linewidth=2, transform=ccrs.PlateCarree())  # Line connecting points\n",
    "# ax.set_xlim(60,100)\n",
    "# ax.set_ylim(6,38)\n",
    "\n",
    "# # plt.title(f\"Total precipitation of at least 25 mm (%) ,{va.valid_time.dt.strftime('%d-%B-%Y %H:%M').values}\")\n",
    "# ax.text(1.1, -0.012, '@Subhrajit', transform=ax.transAxes, fontsize=12,\n",
    "#             verticalalignment='bottom', bbox=dict(facecolor='white', alpha=0.8),weight='bold')\n",
    "# # time=va.valid_time.dt.strftime('%d_%B_%Y_%H').values\n",
    "# plt.grid(True)\n",
    "# # plt.scatter(x=mm[:8], y=nn[:8],\n",
    "# #             color=\"m\",\n",
    "# #             s=10,\n",
    "# #             alpha=1,\n",
    "# #             transform=ccrs.PlateCarree())\n",
    "\n",
    "# # for i, (lon, lat) in enumerate(zip(mm[:10], nn[:10]),):\n",
    "# #     plt.text(lon+1, lat, f'({lon}, {lat})', fontsize=12, ha='right', color='g',transform=ccrs.PlateCarree())\n",
    "    \n",
    "# # Show the plot with a frame\n",
    "# plt.gca().spines['top'].set_visible(True)\n",
    "# plt.gca().spines['right'].set_visible(True)\n",
    "# plt.gca().spines['left'].set_visible(True)\n",
    "# plt.gca().spines['bottom'].set_visible(True)\n",
    "\n",
    "# plt.tight_layout()\n",
    "\n",
    "\n",
    "\n",
    "\n",
    "# # cbar.set_label(lab) # Define the colourbar label\n",
    "# def animate(i):\n",
    "#     array = rf[i,:,:].values\n",
    "#     # array1 = p[i,:,:].values\n",
    "#     im.set_array(array1.flatten())\n",
    "#     # ax.set_title(f'AOD at 550nm')#, {str(da.forecast_reference_time[i].values)[:-16]}', fontsize=12)\n",
    "#     ax.set_title(f\"{p.valid_time[i].dt.strftime('%d-%B-%Y %H:%M').values}\",fontsize=12,weight='bold')\n",
    "\n",
    "\n",
    "# frames =16\n",
    "# ani = animation.FuncAnimation(fig, animate, frames, interval=150)\n",
    "# # ani.save('pressure.gif',fps = 90)\n",
    "# HTML(ani.to_jshtml())"
   ]
  }
 ],
 "metadata": {
  "kernelspec": {
   "display_name": "wrf_plot",
   "language": "python",
   "name": "python3"
  },
  "language_info": {
   "codemirror_mode": {
    "name": "ipython",
    "version": 3
   },
   "file_extension": ".py",
   "mimetype": "text/x-python",
   "name": "python",
   "nbconvert_exporter": "python",
   "pygments_lexer": "ipython3",
   "version": "3.10.14"
  }
 },
 "nbformat": 4,
 "nbformat_minor": 5
}
