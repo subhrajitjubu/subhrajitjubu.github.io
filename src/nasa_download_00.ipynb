{
 "cells": [
  {
   "cell_type": "code",
   "execution_count": 2,
   "id": "88090881-b544-483e-bf29-7898ab4881b0",
   "metadata": {},
   "outputs": [],
   "source": [
    "import numpy as np\n",
    "import xarray as xr\n",
    "import matplotlib.pyplot as plt\n",
    "import pandas as pd\n",
    "import json\n"
   ]
  },
  {
   "cell_type": "code",
   "execution_count": 1,
   "id": "9bd0356c",
   "metadata": {},
   "outputs": [
    {
     "name": "stdout",
     "output_type": "stream",
     "text": [
      "20241216\n"
     ]
    }
   ],
   "source": [
    "from datetime import date\n",
    "\n",
    "def get_today_date():\n",
    "    return date.today().strftime(\"%Y%m%d\")\n",
    "\n",
    "# Example usage:\n",
    "today_date = get_today_date()\n",
    "print(today_date)\n"
   ]
  },
  {
   "cell_type": "code",
   "execution_count": 4,
   "id": "5b4bbd16-0650-494c-8e7b-cc18d4491db6",
   "metadata": {},
   "outputs": [],
   "source": [
    "url=f\"http://nomads.ncep.noaa.gov:80/dods/gfs_0p25_1hr/gfs{today_date}/gfs_0p25_1hr_00z\""
   ]
  },
  {
   "cell_type": "code",
   "execution_count": 5,
   "id": "15282ecd-cfeb-4472-b932-3fd470cfaa6d",
   "metadata": {},
   "outputs": [
    {
     "name": "stderr",
     "output_type": "stream",
     "text": [
      "e:\\anaconda3\\envs\\wrf_plot\\Lib\\site-packages\\xarray\\coding\\times.py:187: SerializationWarning: Ambiguous reference date string: 1-1-1 00:00:0.0. The first value is assumed to be the year hence will be padded with zeros to remove the ambiguity (the padded reference date string is: 0001-1-1 00:00:0.0). To remove this message, remove the ambiguity by padding your reference date strings with zeros.\n",
      "  ref_date = _ensure_padded_year(ref_date)\n"
     ]
    }
   ],
   "source": [
    "ds =xr.open_dataset(url).sel(lon=slice(60,100),lat=slice(0,40))\n"
   ]
  },
  {
   "cell_type": "code",
   "execution_count": 6,
   "id": "3592ae8b-97ad-4534-bf5e-abd8727630e5",
   "metadata": {},
   "outputs": [],
   "source": [
    "sfcx=ds['apcpsfc'].sel(lon=slice(60,100),lat=slice(0,40))#.resample(time='3H').mean()\n",
    "dt = sfcx.time\n"
   ]
  },
  {
   "cell_type": "code",
   "execution_count": 8,
   "id": "af07a6b3-c43f-449e-a846-40b3510231b4",
   "metadata": {},
   "outputs": [],
   "source": [
    "sfcx1=sfcx.fillna(0)\n",
    "sfcx=sfcx1.diff(dim='time').dropna(dim='time')\n",
    "\n",
    "\n",
    "temp=ds['tmpsfc'].fillna(0)\n",
    "mslp=ds['pressfc'].fillna(0)/100\n",
    "cloud=ds['tcdcaveclm'].fillna(0)"
   ]
  },
  {
   "cell_type": "code",
   "execution_count": null,
   "id": "1b21a212-6531-4f3d-9889-9b4633b89767",
   "metadata": {},
   "outputs": [],
   "source": []
  },
  {
   "cell_type": "code",
   "execution_count": 9,
   "id": "f3239f6f-9a62-4085-87ba-637f541dd641",
   "metadata": {},
   "outputs": [],
   "source": [
    "import numpy as np\n",
    "import pandas as pd\n",
    "from datetime import datetime, timedelta\n",
    "import json\n",
    "\n",
    "def dict_l(data, fm):\n",
    "    # Convert the data to a dictionary\n",
    "    data_dict = data.squeeze().to_dict(data='list', encoding=False)\n",
    "\n",
    "    def convert_types(obj):\n",
    "        if isinstance(obj, (np.datetime64, pd.Timestamp, datetime)):\n",
    "            return obj.isoformat()  # Convert datetime objects to ISO format\n",
    "        elif isinstance(obj, timedelta):\n",
    "            return obj.total_seconds()  # Convert timedelta to total seconds\n",
    "        elif isinstance(obj, np.ndarray):\n",
    "            return obj.tolist()  # Convert numpy arrays to lists\n",
    "        elif isinstance(obj, (np.float32, np.float64)):\n",
    "            return float(obj)  # Convert numpy floats to native floats\n",
    "        elif isinstance(obj, (np.int32, np.int64)):\n",
    "            return int(obj)  # Convert numpy integers to native ints\n",
    "        raise TypeError(f\"Type {type(obj)} not serializable\")\n",
    "\n",
    "    file = f\"{fm}.json\"\n",
    "    # Save the dictionary as a JSON file with the extended convert_types function\n",
    "    with open(file, 'w') as json_file:\n",
    "        json.dump(data_dict, json_file, indent=4, default=convert_types)\n",
    "\n",
    "# Example usage (make sure to replace this with your actual data)\n",
    "# df = pd.DataFrame(...)  # Your DataFrame here\n",
    "# dict_l(df, 'output_filename')\n"
   ]
  },
  {
   "cell_type": "code",
   "execution_count": 49,
   "id": "03cb73c8-eba9-4ca9-8aca-7c41a3bbaf32",
   "metadata": {},
   "outputs": [],
   "source": [
    "dict_l(sfcx,\"rf_tot_nasa\")\n",
    "dict_l(temp,\"temp_tot_nasa\")\n",
    "dict_l(mslp,\"mslp_tot_nasa\")\n",
    "dict_l(cloud,\"cloud_tot_nasa\")\n"
   ]
  }
 ],
 "metadata": {
  "kernelspec": {
   "display_name": "wrf_plot",
   "language": "python",
   "name": "python3"
  },
  "language_info": {
   "codemirror_mode": {
    "name": "ipython",
    "version": 3
   },
   "file_extension": ".py",
   "mimetype": "text/x-python",
   "name": "python",
   "nbconvert_exporter": "python",
   "pygments_lexer": "ipython3",
   "version": "3.12.8"
  }
 },
 "nbformat": 4,
 "nbformat_minor": 5
}
